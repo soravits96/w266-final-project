{
  "nbformat": 4,
  "nbformat_minor": 0,
  "metadata": {
    "kernelspec": {
      "display_name": "Python 3",
      "language": "python",
      "name": "python3"
    },
    "language_info": {
      "codemirror_mode": {
        "name": "ipython",
        "version": 3
      },
      "file_extension": ".py",
      "mimetype": "text/x-python",
      "name": "python",
      "nbconvert_exporter": "python",
      "pygments_lexer": "ipython3",
      "version": "3.8.3"
    },
    "colab": {
      "name": "NLP Final Project.ipynb",
      "provenance": [],
      "collapsed_sections": [
        "gyyiGRDO5nIF"
      ],
      "toc_visible": true
    },
    "accelerator": "TPU",
    "widgets": {
      "application/vnd.jupyter.widget-state+json": {
        "50ab370ebe164eb79f4cd80122446a24": {
          "model_module": "@jupyter-widgets/controls",
          "model_name": "HBoxModel",
          "state": {
            "_view_name": "HBoxView",
            "_dom_classes": [],
            "_model_name": "HBoxModel",
            "_view_module": "@jupyter-widgets/controls",
            "_model_module_version": "1.5.0",
            "_view_count": null,
            "_view_module_version": "1.5.0",
            "box_style": "",
            "layout": "IPY_MODEL_9ecf5c32bcfa4c5591367f40ef211a4f",
            "_model_module": "@jupyter-widgets/controls",
            "children": [
              "IPY_MODEL_2ab9bfe2e9114874aeae27af9269f823",
              "IPY_MODEL_e8857fcf19dc47dd8703d3baf5fd482c"
            ]
          }
        },
        "9ecf5c32bcfa4c5591367f40ef211a4f": {
          "model_module": "@jupyter-widgets/base",
          "model_name": "LayoutModel",
          "state": {
            "_view_name": "LayoutView",
            "grid_template_rows": null,
            "right": null,
            "justify_content": null,
            "_view_module": "@jupyter-widgets/base",
            "overflow": null,
            "_model_module_version": "1.2.0",
            "_view_count": null,
            "flex_flow": null,
            "width": null,
            "min_width": null,
            "border": null,
            "align_items": null,
            "bottom": null,
            "_model_module": "@jupyter-widgets/base",
            "top": null,
            "grid_column": null,
            "overflow_y": null,
            "overflow_x": null,
            "grid_auto_flow": null,
            "grid_area": null,
            "grid_template_columns": null,
            "flex": null,
            "_model_name": "LayoutModel",
            "justify_items": null,
            "grid_row": null,
            "max_height": null,
            "align_content": null,
            "visibility": null,
            "align_self": null,
            "height": null,
            "min_height": null,
            "padding": null,
            "grid_auto_rows": null,
            "grid_gap": null,
            "max_width": null,
            "order": null,
            "_view_module_version": "1.2.0",
            "grid_template_areas": null,
            "object_position": null,
            "object_fit": null,
            "grid_auto_columns": null,
            "margin": null,
            "display": null,
            "left": null
          }
        },
        "2ab9bfe2e9114874aeae27af9269f823": {
          "model_module": "@jupyter-widgets/controls",
          "model_name": "FloatProgressModel",
          "state": {
            "_view_name": "ProgressView",
            "style": "IPY_MODEL_ae870638f3ff449aadf4f0fb6d296bf3",
            "_dom_classes": [],
            "description": "Downloading: 100%",
            "_model_name": "FloatProgressModel",
            "bar_style": "success",
            "max": 898823,
            "_view_module": "@jupyter-widgets/controls",
            "_model_module_version": "1.5.0",
            "value": 898823,
            "_view_count": null,
            "_view_module_version": "1.5.0",
            "orientation": "horizontal",
            "min": 0,
            "description_tooltip": null,
            "_model_module": "@jupyter-widgets/controls",
            "layout": "IPY_MODEL_fc571e5dea234a2199c126c184b042e9"
          }
        },
        "e8857fcf19dc47dd8703d3baf5fd482c": {
          "model_module": "@jupyter-widgets/controls",
          "model_name": "HTMLModel",
          "state": {
            "_view_name": "HTMLView",
            "style": "IPY_MODEL_4c651e2c4b5d4f4489b048f708b7701f",
            "_dom_classes": [],
            "description": "",
            "_model_name": "HTMLModel",
            "placeholder": "​",
            "_view_module": "@jupyter-widgets/controls",
            "_model_module_version": "1.5.0",
            "value": " 899k/899k [00:56&lt;00:00, 16.0kB/s]",
            "_view_count": null,
            "_view_module_version": "1.5.0",
            "description_tooltip": null,
            "_model_module": "@jupyter-widgets/controls",
            "layout": "IPY_MODEL_d8cc98599a1e4635b1956b9328037679"
          }
        },
        "ae870638f3ff449aadf4f0fb6d296bf3": {
          "model_module": "@jupyter-widgets/controls",
          "model_name": "ProgressStyleModel",
          "state": {
            "_view_name": "StyleView",
            "_model_name": "ProgressStyleModel",
            "description_width": "initial",
            "_view_module": "@jupyter-widgets/base",
            "_model_module_version": "1.5.0",
            "_view_count": null,
            "_view_module_version": "1.2.0",
            "bar_color": null,
            "_model_module": "@jupyter-widgets/controls"
          }
        },
        "fc571e5dea234a2199c126c184b042e9": {
          "model_module": "@jupyter-widgets/base",
          "model_name": "LayoutModel",
          "state": {
            "_view_name": "LayoutView",
            "grid_template_rows": null,
            "right": null,
            "justify_content": null,
            "_view_module": "@jupyter-widgets/base",
            "overflow": null,
            "_model_module_version": "1.2.0",
            "_view_count": null,
            "flex_flow": null,
            "width": null,
            "min_width": null,
            "border": null,
            "align_items": null,
            "bottom": null,
            "_model_module": "@jupyter-widgets/base",
            "top": null,
            "grid_column": null,
            "overflow_y": null,
            "overflow_x": null,
            "grid_auto_flow": null,
            "grid_area": null,
            "grid_template_columns": null,
            "flex": null,
            "_model_name": "LayoutModel",
            "justify_items": null,
            "grid_row": null,
            "max_height": null,
            "align_content": null,
            "visibility": null,
            "align_self": null,
            "height": null,
            "min_height": null,
            "padding": null,
            "grid_auto_rows": null,
            "grid_gap": null,
            "max_width": null,
            "order": null,
            "_view_module_version": "1.2.0",
            "grid_template_areas": null,
            "object_position": null,
            "object_fit": null,
            "grid_auto_columns": null,
            "margin": null,
            "display": null,
            "left": null
          }
        },
        "4c651e2c4b5d4f4489b048f708b7701f": {
          "model_module": "@jupyter-widgets/controls",
          "model_name": "DescriptionStyleModel",
          "state": {
            "_view_name": "StyleView",
            "_model_name": "DescriptionStyleModel",
            "description_width": "",
            "_view_module": "@jupyter-widgets/base",
            "_model_module_version": "1.5.0",
            "_view_count": null,
            "_view_module_version": "1.2.0",
            "_model_module": "@jupyter-widgets/controls"
          }
        },
        "d8cc98599a1e4635b1956b9328037679": {
          "model_module": "@jupyter-widgets/base",
          "model_name": "LayoutModel",
          "state": {
            "_view_name": "LayoutView",
            "grid_template_rows": null,
            "right": null,
            "justify_content": null,
            "_view_module": "@jupyter-widgets/base",
            "overflow": null,
            "_model_module_version": "1.2.0",
            "_view_count": null,
            "flex_flow": null,
            "width": null,
            "min_width": null,
            "border": null,
            "align_items": null,
            "bottom": null,
            "_model_module": "@jupyter-widgets/base",
            "top": null,
            "grid_column": null,
            "overflow_y": null,
            "overflow_x": null,
            "grid_auto_flow": null,
            "grid_area": null,
            "grid_template_columns": null,
            "flex": null,
            "_model_name": "LayoutModel",
            "justify_items": null,
            "grid_row": null,
            "max_height": null,
            "align_content": null,
            "visibility": null,
            "align_self": null,
            "height": null,
            "min_height": null,
            "padding": null,
            "grid_auto_rows": null,
            "grid_gap": null,
            "max_width": null,
            "order": null,
            "_view_module_version": "1.2.0",
            "grid_template_areas": null,
            "object_position": null,
            "object_fit": null,
            "grid_auto_columns": null,
            "margin": null,
            "display": null,
            "left": null
          }
        },
        "1fdcbb06d3374ec1a9a8e4416cb112d7": {
          "model_module": "@jupyter-widgets/controls",
          "model_name": "HBoxModel",
          "state": {
            "_view_name": "HBoxView",
            "_dom_classes": [],
            "_model_name": "HBoxModel",
            "_view_module": "@jupyter-widgets/controls",
            "_model_module_version": "1.5.0",
            "_view_count": null,
            "_view_module_version": "1.5.0",
            "box_style": "",
            "layout": "IPY_MODEL_a3c7241cf3b3471385c1c5d943511f8d",
            "_model_module": "@jupyter-widgets/controls",
            "children": [
              "IPY_MODEL_57f9f16457c84ed595c49deda116bbd5",
              "IPY_MODEL_8c9d33d2014241a4a1dadd247a4e9393"
            ]
          }
        },
        "a3c7241cf3b3471385c1c5d943511f8d": {
          "model_module": "@jupyter-widgets/base",
          "model_name": "LayoutModel",
          "state": {
            "_view_name": "LayoutView",
            "grid_template_rows": null,
            "right": null,
            "justify_content": null,
            "_view_module": "@jupyter-widgets/base",
            "overflow": null,
            "_model_module_version": "1.2.0",
            "_view_count": null,
            "flex_flow": null,
            "width": null,
            "min_width": null,
            "border": null,
            "align_items": null,
            "bottom": null,
            "_model_module": "@jupyter-widgets/base",
            "top": null,
            "grid_column": null,
            "overflow_y": null,
            "overflow_x": null,
            "grid_auto_flow": null,
            "grid_area": null,
            "grid_template_columns": null,
            "flex": null,
            "_model_name": "LayoutModel",
            "justify_items": null,
            "grid_row": null,
            "max_height": null,
            "align_content": null,
            "visibility": null,
            "align_self": null,
            "height": null,
            "min_height": null,
            "padding": null,
            "grid_auto_rows": null,
            "grid_gap": null,
            "max_width": null,
            "order": null,
            "_view_module_version": "1.2.0",
            "grid_template_areas": null,
            "object_position": null,
            "object_fit": null,
            "grid_auto_columns": null,
            "margin": null,
            "display": null,
            "left": null
          }
        },
        "57f9f16457c84ed595c49deda116bbd5": {
          "model_module": "@jupyter-widgets/controls",
          "model_name": "FloatProgressModel",
          "state": {
            "_view_name": "ProgressView",
            "style": "IPY_MODEL_8364500c29ab401f95d171f8b88831a7",
            "_dom_classes": [],
            "description": "Downloading: 100%",
            "_model_name": "FloatProgressModel",
            "bar_style": "success",
            "max": 456318,
            "_view_module": "@jupyter-widgets/controls",
            "_model_module_version": "1.5.0",
            "value": 456318,
            "_view_count": null,
            "_view_module_version": "1.5.0",
            "orientation": "horizontal",
            "min": 0,
            "description_tooltip": null,
            "_model_module": "@jupyter-widgets/controls",
            "layout": "IPY_MODEL_14ef390e586b4d629cd0733e9224deca"
          }
        },
        "8c9d33d2014241a4a1dadd247a4e9393": {
          "model_module": "@jupyter-widgets/controls",
          "model_name": "HTMLModel",
          "state": {
            "_view_name": "HTMLView",
            "style": "IPY_MODEL_b388b491c357431eba55ddc1fb196c30",
            "_dom_classes": [],
            "description": "",
            "_model_name": "HTMLModel",
            "placeholder": "​",
            "_view_module": "@jupyter-widgets/controls",
            "_model_module_version": "1.5.0",
            "value": " 456k/456k [00:00&lt;00:00, 603kB/s]",
            "_view_count": null,
            "_view_module_version": "1.5.0",
            "description_tooltip": null,
            "_model_module": "@jupyter-widgets/controls",
            "layout": "IPY_MODEL_e7f0b0d010214ed89cc8690d5210de3f"
          }
        },
        "8364500c29ab401f95d171f8b88831a7": {
          "model_module": "@jupyter-widgets/controls",
          "model_name": "ProgressStyleModel",
          "state": {
            "_view_name": "StyleView",
            "_model_name": "ProgressStyleModel",
            "description_width": "initial",
            "_view_module": "@jupyter-widgets/base",
            "_model_module_version": "1.5.0",
            "_view_count": null,
            "_view_module_version": "1.2.0",
            "bar_color": null,
            "_model_module": "@jupyter-widgets/controls"
          }
        },
        "14ef390e586b4d629cd0733e9224deca": {
          "model_module": "@jupyter-widgets/base",
          "model_name": "LayoutModel",
          "state": {
            "_view_name": "LayoutView",
            "grid_template_rows": null,
            "right": null,
            "justify_content": null,
            "_view_module": "@jupyter-widgets/base",
            "overflow": null,
            "_model_module_version": "1.2.0",
            "_view_count": null,
            "flex_flow": null,
            "width": null,
            "min_width": null,
            "border": null,
            "align_items": null,
            "bottom": null,
            "_model_module": "@jupyter-widgets/base",
            "top": null,
            "grid_column": null,
            "overflow_y": null,
            "overflow_x": null,
            "grid_auto_flow": null,
            "grid_area": null,
            "grid_template_columns": null,
            "flex": null,
            "_model_name": "LayoutModel",
            "justify_items": null,
            "grid_row": null,
            "max_height": null,
            "align_content": null,
            "visibility": null,
            "align_self": null,
            "height": null,
            "min_height": null,
            "padding": null,
            "grid_auto_rows": null,
            "grid_gap": null,
            "max_width": null,
            "order": null,
            "_view_module_version": "1.2.0",
            "grid_template_areas": null,
            "object_position": null,
            "object_fit": null,
            "grid_auto_columns": null,
            "margin": null,
            "display": null,
            "left": null
          }
        },
        "b388b491c357431eba55ddc1fb196c30": {
          "model_module": "@jupyter-widgets/controls",
          "model_name": "DescriptionStyleModel",
          "state": {
            "_view_name": "StyleView",
            "_model_name": "DescriptionStyleModel",
            "description_width": "",
            "_view_module": "@jupyter-widgets/base",
            "_model_module_version": "1.5.0",
            "_view_count": null,
            "_view_module_version": "1.2.0",
            "_model_module": "@jupyter-widgets/controls"
          }
        },
        "e7f0b0d010214ed89cc8690d5210de3f": {
          "model_module": "@jupyter-widgets/base",
          "model_name": "LayoutModel",
          "state": {
            "_view_name": "LayoutView",
            "grid_template_rows": null,
            "right": null,
            "justify_content": null,
            "_view_module": "@jupyter-widgets/base",
            "overflow": null,
            "_model_module_version": "1.2.0",
            "_view_count": null,
            "flex_flow": null,
            "width": null,
            "min_width": null,
            "border": null,
            "align_items": null,
            "bottom": null,
            "_model_module": "@jupyter-widgets/base",
            "top": null,
            "grid_column": null,
            "overflow_y": null,
            "overflow_x": null,
            "grid_auto_flow": null,
            "grid_area": null,
            "grid_template_columns": null,
            "flex": null,
            "_model_name": "LayoutModel",
            "justify_items": null,
            "grid_row": null,
            "max_height": null,
            "align_content": null,
            "visibility": null,
            "align_self": null,
            "height": null,
            "min_height": null,
            "padding": null,
            "grid_auto_rows": null,
            "grid_gap": null,
            "max_width": null,
            "order": null,
            "_view_module_version": "1.2.0",
            "grid_template_areas": null,
            "object_position": null,
            "object_fit": null,
            "grid_auto_columns": null,
            "margin": null,
            "display": null,
            "left": null
          }
        },
        "92e55ddedd3d4f84ae229a1311b40eee": {
          "model_module": "@jupyter-widgets/controls",
          "model_name": "HBoxModel",
          "state": {
            "_view_name": "HBoxView",
            "_dom_classes": [],
            "_model_name": "HBoxModel",
            "_view_module": "@jupyter-widgets/controls",
            "_model_module_version": "1.5.0",
            "_view_count": null,
            "_view_module_version": "1.5.0",
            "box_style": "",
            "layout": "IPY_MODEL_4b10c9a6a6c446e087dbde0dccc68c9d",
            "_model_module": "@jupyter-widgets/controls",
            "children": [
              "IPY_MODEL_b986e7c69c34454da57b85a42358056c",
              "IPY_MODEL_735df447f82c4adf9eb0a5123d943bdb"
            ]
          }
        },
        "4b10c9a6a6c446e087dbde0dccc68c9d": {
          "model_module": "@jupyter-widgets/base",
          "model_name": "LayoutModel",
          "state": {
            "_view_name": "LayoutView",
            "grid_template_rows": null,
            "right": null,
            "justify_content": null,
            "_view_module": "@jupyter-widgets/base",
            "overflow": null,
            "_model_module_version": "1.2.0",
            "_view_count": null,
            "flex_flow": null,
            "width": null,
            "min_width": null,
            "border": null,
            "align_items": null,
            "bottom": null,
            "_model_module": "@jupyter-widgets/base",
            "top": null,
            "grid_column": null,
            "overflow_y": null,
            "overflow_x": null,
            "grid_auto_flow": null,
            "grid_area": null,
            "grid_template_columns": null,
            "flex": null,
            "_model_name": "LayoutModel",
            "justify_items": null,
            "grid_row": null,
            "max_height": null,
            "align_content": null,
            "visibility": null,
            "align_self": null,
            "height": null,
            "min_height": null,
            "padding": null,
            "grid_auto_rows": null,
            "grid_gap": null,
            "max_width": null,
            "order": null,
            "_view_module_version": "1.2.0",
            "grid_template_areas": null,
            "object_position": null,
            "object_fit": null,
            "grid_auto_columns": null,
            "margin": null,
            "display": null,
            "left": null
          }
        },
        "b986e7c69c34454da57b85a42358056c": {
          "model_module": "@jupyter-widgets/controls",
          "model_name": "FloatProgressModel",
          "state": {
            "_view_name": "ProgressView",
            "style": "IPY_MODEL_71213d9eeb694e42a4ccf25b8c1e0cb1",
            "_dom_classes": [],
            "description": "Downloading: 100%",
            "_model_name": "FloatProgressModel",
            "bar_style": "success",
            "max": 1355863,
            "_view_module": "@jupyter-widgets/controls",
            "_model_module_version": "1.5.0",
            "value": 1355863,
            "_view_count": null,
            "_view_module_version": "1.5.0",
            "orientation": "horizontal",
            "min": 0,
            "description_tooltip": null,
            "_model_module": "@jupyter-widgets/controls",
            "layout": "IPY_MODEL_150f2855c5de49fca14a31a58a9c1043"
          }
        },
        "735df447f82c4adf9eb0a5123d943bdb": {
          "model_module": "@jupyter-widgets/controls",
          "model_name": "HTMLModel",
          "state": {
            "_view_name": "HTMLView",
            "style": "IPY_MODEL_23becbf7d0b04475ae99b69f7ff6ef15",
            "_dom_classes": [],
            "description": "",
            "_model_name": "HTMLModel",
            "placeholder": "​",
            "_view_module": "@jupyter-widgets/controls",
            "_model_module_version": "1.5.0",
            "value": " 1.36M/1.36M [00:00&lt;00:00, 5.06MB/s]",
            "_view_count": null,
            "_view_module_version": "1.5.0",
            "description_tooltip": null,
            "_model_module": "@jupyter-widgets/controls",
            "layout": "IPY_MODEL_acad4355ac7a478099635f10888fa39c"
          }
        },
        "71213d9eeb694e42a4ccf25b8c1e0cb1": {
          "model_module": "@jupyter-widgets/controls",
          "model_name": "ProgressStyleModel",
          "state": {
            "_view_name": "StyleView",
            "_model_name": "ProgressStyleModel",
            "description_width": "initial",
            "_view_module": "@jupyter-widgets/base",
            "_model_module_version": "1.5.0",
            "_view_count": null,
            "_view_module_version": "1.2.0",
            "bar_color": null,
            "_model_module": "@jupyter-widgets/controls"
          }
        },
        "150f2855c5de49fca14a31a58a9c1043": {
          "model_module": "@jupyter-widgets/base",
          "model_name": "LayoutModel",
          "state": {
            "_view_name": "LayoutView",
            "grid_template_rows": null,
            "right": null,
            "justify_content": null,
            "_view_module": "@jupyter-widgets/base",
            "overflow": null,
            "_model_module_version": "1.2.0",
            "_view_count": null,
            "flex_flow": null,
            "width": null,
            "min_width": null,
            "border": null,
            "align_items": null,
            "bottom": null,
            "_model_module": "@jupyter-widgets/base",
            "top": null,
            "grid_column": null,
            "overflow_y": null,
            "overflow_x": null,
            "grid_auto_flow": null,
            "grid_area": null,
            "grid_template_columns": null,
            "flex": null,
            "_model_name": "LayoutModel",
            "justify_items": null,
            "grid_row": null,
            "max_height": null,
            "align_content": null,
            "visibility": null,
            "align_self": null,
            "height": null,
            "min_height": null,
            "padding": null,
            "grid_auto_rows": null,
            "grid_gap": null,
            "max_width": null,
            "order": null,
            "_view_module_version": "1.2.0",
            "grid_template_areas": null,
            "object_position": null,
            "object_fit": null,
            "grid_auto_columns": null,
            "margin": null,
            "display": null,
            "left": null
          }
        },
        "23becbf7d0b04475ae99b69f7ff6ef15": {
          "model_module": "@jupyter-widgets/controls",
          "model_name": "DescriptionStyleModel",
          "state": {
            "_view_name": "StyleView",
            "_model_name": "DescriptionStyleModel",
            "description_width": "",
            "_view_module": "@jupyter-widgets/base",
            "_model_module_version": "1.5.0",
            "_view_count": null,
            "_view_module_version": "1.2.0",
            "_model_module": "@jupyter-widgets/controls"
          }
        },
        "acad4355ac7a478099635f10888fa39c": {
          "model_module": "@jupyter-widgets/base",
          "model_name": "LayoutModel",
          "state": {
            "_view_name": "LayoutView",
            "grid_template_rows": null,
            "right": null,
            "justify_content": null,
            "_view_module": "@jupyter-widgets/base",
            "overflow": null,
            "_model_module_version": "1.2.0",
            "_view_count": null,
            "flex_flow": null,
            "width": null,
            "min_width": null,
            "border": null,
            "align_items": null,
            "bottom": null,
            "_model_module": "@jupyter-widgets/base",
            "top": null,
            "grid_column": null,
            "overflow_y": null,
            "overflow_x": null,
            "grid_auto_flow": null,
            "grid_area": null,
            "grid_template_columns": null,
            "flex": null,
            "_model_name": "LayoutModel",
            "justify_items": null,
            "grid_row": null,
            "max_height": null,
            "align_content": null,
            "visibility": null,
            "align_self": null,
            "height": null,
            "min_height": null,
            "padding": null,
            "grid_auto_rows": null,
            "grid_gap": null,
            "max_width": null,
            "order": null,
            "_view_module_version": "1.2.0",
            "grid_template_areas": null,
            "object_position": null,
            "object_fit": null,
            "grid_auto_columns": null,
            "margin": null,
            "display": null,
            "left": null
          }
        },
        "6c2d5d59f1974c189b9e3959f8728364": {
          "model_module": "@jupyter-widgets/controls",
          "model_name": "HBoxModel",
          "state": {
            "_view_name": "HBoxView",
            "_dom_classes": [],
            "_model_name": "HBoxModel",
            "_view_module": "@jupyter-widgets/controls",
            "_model_module_version": "1.5.0",
            "_view_count": null,
            "_view_module_version": "1.5.0",
            "box_style": "",
            "layout": "IPY_MODEL_0695a928f8f74cb2ba724b054f106c86",
            "_model_module": "@jupyter-widgets/controls",
            "children": [
              "IPY_MODEL_ccc60e8e72004af0aa6ec4add65d5ead",
              "IPY_MODEL_9c02183474664ed2af62ac9cb83b592d"
            ]
          }
        },
        "0695a928f8f74cb2ba724b054f106c86": {
          "model_module": "@jupyter-widgets/base",
          "model_name": "LayoutModel",
          "state": {
            "_view_name": "LayoutView",
            "grid_template_rows": null,
            "right": null,
            "justify_content": null,
            "_view_module": "@jupyter-widgets/base",
            "overflow": null,
            "_model_module_version": "1.2.0",
            "_view_count": null,
            "flex_flow": null,
            "width": null,
            "min_width": null,
            "border": null,
            "align_items": null,
            "bottom": null,
            "_model_module": "@jupyter-widgets/base",
            "top": null,
            "grid_column": null,
            "overflow_y": null,
            "overflow_x": null,
            "grid_auto_flow": null,
            "grid_area": null,
            "grid_template_columns": null,
            "flex": null,
            "_model_name": "LayoutModel",
            "justify_items": null,
            "grid_row": null,
            "max_height": null,
            "align_content": null,
            "visibility": null,
            "align_self": null,
            "height": null,
            "min_height": null,
            "padding": null,
            "grid_auto_rows": null,
            "grid_gap": null,
            "max_width": null,
            "order": null,
            "_view_module_version": "1.2.0",
            "grid_template_areas": null,
            "object_position": null,
            "object_fit": null,
            "grid_auto_columns": null,
            "margin": null,
            "display": null,
            "left": null
          }
        },
        "ccc60e8e72004af0aa6ec4add65d5ead": {
          "model_module": "@jupyter-widgets/controls",
          "model_name": "FloatProgressModel",
          "state": {
            "_view_name": "ProgressView",
            "style": "IPY_MODEL_ae3a19b7199a48119f7135cb18c8ace6",
            "_dom_classes": [],
            "description": "Downloading: 100%",
            "_model_name": "FloatProgressModel",
            "bar_style": "success",
            "max": 481,
            "_view_module": "@jupyter-widgets/controls",
            "_model_module_version": "1.5.0",
            "value": 481,
            "_view_count": null,
            "_view_module_version": "1.5.0",
            "orientation": "horizontal",
            "min": 0,
            "description_tooltip": null,
            "_model_module": "@jupyter-widgets/controls",
            "layout": "IPY_MODEL_1af0159c4a3a403e8f5144faf9f57575"
          }
        },
        "9c02183474664ed2af62ac9cb83b592d": {
          "model_module": "@jupyter-widgets/controls",
          "model_name": "HTMLModel",
          "state": {
            "_view_name": "HTMLView",
            "style": "IPY_MODEL_8d9e795598214612b96d86521986f494",
            "_dom_classes": [],
            "description": "",
            "_model_name": "HTMLModel",
            "placeholder": "​",
            "_view_module": "@jupyter-widgets/controls",
            "_model_module_version": "1.5.0",
            "value": " 481/481 [00:19&lt;00:00, 24.3B/s]",
            "_view_count": null,
            "_view_module_version": "1.5.0",
            "description_tooltip": null,
            "_model_module": "@jupyter-widgets/controls",
            "layout": "IPY_MODEL_2d9e4858ba354265b156e81c1e01b30c"
          }
        },
        "ae3a19b7199a48119f7135cb18c8ace6": {
          "model_module": "@jupyter-widgets/controls",
          "model_name": "ProgressStyleModel",
          "state": {
            "_view_name": "StyleView",
            "_model_name": "ProgressStyleModel",
            "description_width": "initial",
            "_view_module": "@jupyter-widgets/base",
            "_model_module_version": "1.5.0",
            "_view_count": null,
            "_view_module_version": "1.2.0",
            "bar_color": null,
            "_model_module": "@jupyter-widgets/controls"
          }
        },
        "1af0159c4a3a403e8f5144faf9f57575": {
          "model_module": "@jupyter-widgets/base",
          "model_name": "LayoutModel",
          "state": {
            "_view_name": "LayoutView",
            "grid_template_rows": null,
            "right": null,
            "justify_content": null,
            "_view_module": "@jupyter-widgets/base",
            "overflow": null,
            "_model_module_version": "1.2.0",
            "_view_count": null,
            "flex_flow": null,
            "width": null,
            "min_width": null,
            "border": null,
            "align_items": null,
            "bottom": null,
            "_model_module": "@jupyter-widgets/base",
            "top": null,
            "grid_column": null,
            "overflow_y": null,
            "overflow_x": null,
            "grid_auto_flow": null,
            "grid_area": null,
            "grid_template_columns": null,
            "flex": null,
            "_model_name": "LayoutModel",
            "justify_items": null,
            "grid_row": null,
            "max_height": null,
            "align_content": null,
            "visibility": null,
            "align_self": null,
            "height": null,
            "min_height": null,
            "padding": null,
            "grid_auto_rows": null,
            "grid_gap": null,
            "max_width": null,
            "order": null,
            "_view_module_version": "1.2.0",
            "grid_template_areas": null,
            "object_position": null,
            "object_fit": null,
            "grid_auto_columns": null,
            "margin": null,
            "display": null,
            "left": null
          }
        },
        "8d9e795598214612b96d86521986f494": {
          "model_module": "@jupyter-widgets/controls",
          "model_name": "DescriptionStyleModel",
          "state": {
            "_view_name": "StyleView",
            "_model_name": "DescriptionStyleModel",
            "description_width": "",
            "_view_module": "@jupyter-widgets/base",
            "_model_module_version": "1.5.0",
            "_view_count": null,
            "_view_module_version": "1.2.0",
            "_model_module": "@jupyter-widgets/controls"
          }
        },
        "2d9e4858ba354265b156e81c1e01b30c": {
          "model_module": "@jupyter-widgets/base",
          "model_name": "LayoutModel",
          "state": {
            "_view_name": "LayoutView",
            "grid_template_rows": null,
            "right": null,
            "justify_content": null,
            "_view_module": "@jupyter-widgets/base",
            "overflow": null,
            "_model_module_version": "1.2.0",
            "_view_count": null,
            "flex_flow": null,
            "width": null,
            "min_width": null,
            "border": null,
            "align_items": null,
            "bottom": null,
            "_model_module": "@jupyter-widgets/base",
            "top": null,
            "grid_column": null,
            "overflow_y": null,
            "overflow_x": null,
            "grid_auto_flow": null,
            "grid_area": null,
            "grid_template_columns": null,
            "flex": null,
            "_model_name": "LayoutModel",
            "justify_items": null,
            "grid_row": null,
            "max_height": null,
            "align_content": null,
            "visibility": null,
            "align_self": null,
            "height": null,
            "min_height": null,
            "padding": null,
            "grid_auto_rows": null,
            "grid_gap": null,
            "max_width": null,
            "order": null,
            "_view_module_version": "1.2.0",
            "grid_template_areas": null,
            "object_position": null,
            "object_fit": null,
            "grid_auto_columns": null,
            "margin": null,
            "display": null,
            "left": null
          }
        },
        "c29b9fdece9e42db94a0640d0ed0f224": {
          "model_module": "@jupyter-widgets/controls",
          "model_name": "HBoxModel",
          "state": {
            "_view_name": "HBoxView",
            "_dom_classes": [],
            "_model_name": "HBoxModel",
            "_view_module": "@jupyter-widgets/controls",
            "_model_module_version": "1.5.0",
            "_view_count": null,
            "_view_module_version": "1.5.0",
            "box_style": "",
            "layout": "IPY_MODEL_c7ab3f91e27f4a8e9f7c7900330d3972",
            "_model_module": "@jupyter-widgets/controls",
            "children": [
              "IPY_MODEL_043b4c4247ba41b2a6a939b163e38b38",
              "IPY_MODEL_f38202b738754c6698e4e7ed4e820f19"
            ]
          }
        },
        "c7ab3f91e27f4a8e9f7c7900330d3972": {
          "model_module": "@jupyter-widgets/base",
          "model_name": "LayoutModel",
          "state": {
            "_view_name": "LayoutView",
            "grid_template_rows": null,
            "right": null,
            "justify_content": null,
            "_view_module": "@jupyter-widgets/base",
            "overflow": null,
            "_model_module_version": "1.2.0",
            "_view_count": null,
            "flex_flow": null,
            "width": null,
            "min_width": null,
            "border": null,
            "align_items": null,
            "bottom": null,
            "_model_module": "@jupyter-widgets/base",
            "top": null,
            "grid_column": null,
            "overflow_y": null,
            "overflow_x": null,
            "grid_auto_flow": null,
            "grid_area": null,
            "grid_template_columns": null,
            "flex": null,
            "_model_name": "LayoutModel",
            "justify_items": null,
            "grid_row": null,
            "max_height": null,
            "align_content": null,
            "visibility": null,
            "align_self": null,
            "height": null,
            "min_height": null,
            "padding": null,
            "grid_auto_rows": null,
            "grid_gap": null,
            "max_width": null,
            "order": null,
            "_view_module_version": "1.2.0",
            "grid_template_areas": null,
            "object_position": null,
            "object_fit": null,
            "grid_auto_columns": null,
            "margin": null,
            "display": null,
            "left": null
          }
        },
        "043b4c4247ba41b2a6a939b163e38b38": {
          "model_module": "@jupyter-widgets/controls",
          "model_name": "FloatProgressModel",
          "state": {
            "_view_name": "ProgressView",
            "style": "IPY_MODEL_12be2702ab954f739ad3fed1da82bc0e",
            "_dom_classes": [],
            "description": "Downloading: 100%",
            "_model_name": "FloatProgressModel",
            "bar_style": "success",
            "max": 657434796,
            "_view_module": "@jupyter-widgets/controls",
            "_model_module_version": "1.5.0",
            "value": 657434796,
            "_view_count": null,
            "_view_module_version": "1.5.0",
            "orientation": "horizontal",
            "min": 0,
            "description_tooltip": null,
            "_model_module": "@jupyter-widgets/controls",
            "layout": "IPY_MODEL_a0fae7f179cc42458d85c906d00e93ef"
          }
        },
        "f38202b738754c6698e4e7ed4e820f19": {
          "model_module": "@jupyter-widgets/controls",
          "model_name": "HTMLModel",
          "state": {
            "_view_name": "HTMLView",
            "style": "IPY_MODEL_90b0e418aaec4abaa49648865ff98087",
            "_dom_classes": [],
            "description": "",
            "_model_name": "HTMLModel",
            "placeholder": "​",
            "_view_module": "@jupyter-widgets/controls",
            "_model_module_version": "1.5.0",
            "value": " 657M/657M [00:19&lt;00:00, 33.9MB/s]",
            "_view_count": null,
            "_view_module_version": "1.5.0",
            "description_tooltip": null,
            "_model_module": "@jupyter-widgets/controls",
            "layout": "IPY_MODEL_87fd9bb486c646d3b37f40d8eb137948"
          }
        },
        "12be2702ab954f739ad3fed1da82bc0e": {
          "model_module": "@jupyter-widgets/controls",
          "model_name": "ProgressStyleModel",
          "state": {
            "_view_name": "StyleView",
            "_model_name": "ProgressStyleModel",
            "description_width": "initial",
            "_view_module": "@jupyter-widgets/base",
            "_model_module_version": "1.5.0",
            "_view_count": null,
            "_view_module_version": "1.2.0",
            "bar_color": null,
            "_model_module": "@jupyter-widgets/controls"
          }
        },
        "a0fae7f179cc42458d85c906d00e93ef": {
          "model_module": "@jupyter-widgets/base",
          "model_name": "LayoutModel",
          "state": {
            "_view_name": "LayoutView",
            "grid_template_rows": null,
            "right": null,
            "justify_content": null,
            "_view_module": "@jupyter-widgets/base",
            "overflow": null,
            "_model_module_version": "1.2.0",
            "_view_count": null,
            "flex_flow": null,
            "width": null,
            "min_width": null,
            "border": null,
            "align_items": null,
            "bottom": null,
            "_model_module": "@jupyter-widgets/base",
            "top": null,
            "grid_column": null,
            "overflow_y": null,
            "overflow_x": null,
            "grid_auto_flow": null,
            "grid_area": null,
            "grid_template_columns": null,
            "flex": null,
            "_model_name": "LayoutModel",
            "justify_items": null,
            "grid_row": null,
            "max_height": null,
            "align_content": null,
            "visibility": null,
            "align_self": null,
            "height": null,
            "min_height": null,
            "padding": null,
            "grid_auto_rows": null,
            "grid_gap": null,
            "max_width": null,
            "order": null,
            "_view_module_version": "1.2.0",
            "grid_template_areas": null,
            "object_position": null,
            "object_fit": null,
            "grid_auto_columns": null,
            "margin": null,
            "display": null,
            "left": null
          }
        },
        "90b0e418aaec4abaa49648865ff98087": {
          "model_module": "@jupyter-widgets/controls",
          "model_name": "DescriptionStyleModel",
          "state": {
            "_view_name": "StyleView",
            "_model_name": "DescriptionStyleModel",
            "description_width": "",
            "_view_module": "@jupyter-widgets/base",
            "_model_module_version": "1.5.0",
            "_view_count": null,
            "_view_module_version": "1.2.0",
            "_model_module": "@jupyter-widgets/controls"
          }
        },
        "87fd9bb486c646d3b37f40d8eb137948": {
          "model_module": "@jupyter-widgets/base",
          "model_name": "LayoutModel",
          "state": {
            "_view_name": "LayoutView",
            "grid_template_rows": null,
            "right": null,
            "justify_content": null,
            "_view_module": "@jupyter-widgets/base",
            "overflow": null,
            "_model_module_version": "1.2.0",
            "_view_count": null,
            "flex_flow": null,
            "width": null,
            "min_width": null,
            "border": null,
            "align_items": null,
            "bottom": null,
            "_model_module": "@jupyter-widgets/base",
            "top": null,
            "grid_column": null,
            "overflow_y": null,
            "overflow_x": null,
            "grid_auto_flow": null,
            "grid_area": null,
            "grid_template_columns": null,
            "flex": null,
            "_model_name": "LayoutModel",
            "justify_items": null,
            "grid_row": null,
            "max_height": null,
            "align_content": null,
            "visibility": null,
            "align_self": null,
            "height": null,
            "min_height": null,
            "padding": null,
            "grid_auto_rows": null,
            "grid_gap": null,
            "max_width": null,
            "order": null,
            "_view_module_version": "1.2.0",
            "grid_template_areas": null,
            "object_position": null,
            "object_fit": null,
            "grid_auto_columns": null,
            "margin": null,
            "display": null,
            "left": null
          }
        }
      }
    }
  },
  "cells": [
    {
      "cell_type": "markdown",
      "metadata": {
        "id": "g8R7sKKn5nH4"
      },
      "source": [
        "# W266 Final Project"
      ]
    },
    {
      "cell_type": "markdown",
      "metadata": {
        "id": "VZMiC3WKsJoy"
      },
      "source": [
        "## Downloads"
      ]
    },
    {
      "cell_type": "code",
      "metadata": {
        "id": "SRu_cIvq5nH-",
        "colab": {
          "base_uri": "https://localhost:8080/"
        },
        "outputId": "db7e7615-edfb-4159-dae2-438eedd089c6"
      },
      "source": [
        "pip install transformers"
      ],
      "execution_count": null,
      "outputs": [
        {
          "output_type": "stream",
          "text": [
            "Collecting transformers\n",
            "\u001b[?25l  Downloading https://files.pythonhosted.org/packages/81/91/61d69d58a1af1bd81d9ca9d62c90a6de3ab80d77f27c5df65d9a2c1f5626/transformers-4.5.0-py3-none-any.whl (2.1MB)\n",
            "\u001b[K     |████████████████████████████████| 2.2MB 6.7MB/s \n",
            "\u001b[?25hRequirement already satisfied: numpy>=1.17 in /usr/local/lib/python3.7/dist-packages (from transformers) (1.19.5)\n",
            "Requirement already satisfied: regex!=2019.12.17 in /usr/local/lib/python3.7/dist-packages (from transformers) (2019.12.20)\n",
            "Requirement already satisfied: filelock in /usr/local/lib/python3.7/dist-packages (from transformers) (3.0.12)\n",
            "Requirement already satisfied: importlib-metadata; python_version < \"3.8\" in /usr/local/lib/python3.7/dist-packages (from transformers) (3.8.1)\n",
            "Collecting sacremoses\n",
            "\u001b[?25l  Downloading https://files.pythonhosted.org/packages/08/cd/342e584ee544d044fb573ae697404ce22ede086c9e87ce5960772084cad0/sacremoses-0.0.44.tar.gz (862kB)\n",
            "\u001b[K     |████████████████████████████████| 870kB 50.9MB/s \n",
            "\u001b[?25hRequirement already satisfied: packaging in /usr/local/lib/python3.7/dist-packages (from transformers) (20.9)\n",
            "Requirement already satisfied: tqdm>=4.27 in /usr/local/lib/python3.7/dist-packages (from transformers) (4.41.1)\n",
            "Collecting tokenizers<0.11,>=0.10.1\n",
            "\u001b[?25l  Downloading https://files.pythonhosted.org/packages/ae/04/5b870f26a858552025a62f1649c20d29d2672c02ff3c3fb4c688ca46467a/tokenizers-0.10.2-cp37-cp37m-manylinux2010_x86_64.whl (3.3MB)\n",
            "\u001b[K     |████████████████████████████████| 3.3MB 39.3MB/s \n",
            "\u001b[?25hRequirement already satisfied: requests in /usr/local/lib/python3.7/dist-packages (from transformers) (2.23.0)\n",
            "Requirement already satisfied: zipp>=0.5 in /usr/local/lib/python3.7/dist-packages (from importlib-metadata; python_version < \"3.8\"->transformers) (3.4.1)\n",
            "Requirement already satisfied: typing-extensions>=3.6.4; python_version < \"3.8\" in /usr/local/lib/python3.7/dist-packages (from importlib-metadata; python_version < \"3.8\"->transformers) (3.7.4.3)\n",
            "Requirement already satisfied: six in /usr/local/lib/python3.7/dist-packages (from sacremoses->transformers) (1.15.0)\n",
            "Requirement already satisfied: click in /usr/local/lib/python3.7/dist-packages (from sacremoses->transformers) (7.1.2)\n",
            "Requirement already satisfied: joblib in /usr/local/lib/python3.7/dist-packages (from sacremoses->transformers) (1.0.1)\n",
            "Requirement already satisfied: pyparsing>=2.0.2 in /usr/local/lib/python3.7/dist-packages (from packaging->transformers) (2.4.7)\n",
            "Requirement already satisfied: idna<3,>=2.5 in /usr/local/lib/python3.7/dist-packages (from requests->transformers) (2.10)\n",
            "Requirement already satisfied: urllib3!=1.25.0,!=1.25.1,<1.26,>=1.21.1 in /usr/local/lib/python3.7/dist-packages (from requests->transformers) (1.24.3)\n",
            "Requirement already satisfied: certifi>=2017.4.17 in /usr/local/lib/python3.7/dist-packages (from requests->transformers) (2020.12.5)\n",
            "Requirement already satisfied: chardet<4,>=3.0.2 in /usr/local/lib/python3.7/dist-packages (from requests->transformers) (3.0.4)\n",
            "Building wheels for collected packages: sacremoses\n",
            "  Building wheel for sacremoses (setup.py) ... \u001b[?25l\u001b[?25hdone\n",
            "  Created wheel for sacremoses: filename=sacremoses-0.0.44-cp37-none-any.whl size=886084 sha256=e12e5e607a50adfdf3a91b23f8134500e0b09e3a6bb04210f7f7b5635c44425f\n",
            "  Stored in directory: /root/.cache/pip/wheels/3e/fb/c0/13ab4d63d537658f448366744654323077c4d90069b6512f3c\n",
            "Successfully built sacremoses\n",
            "Installing collected packages: sacremoses, tokenizers, transformers\n",
            "Successfully installed sacremoses-0.0.44 tokenizers-0.10.2 transformers-4.5.0\n"
          ],
          "name": "stdout"
        }
      ]
    },
    {
      "cell_type": "markdown",
      "metadata": {
        "id": "8csI3CYY5nH-"
      },
      "source": [
        "## Setup"
      ]
    },
    {
      "cell_type": "code",
      "metadata": {
        "id": "t_vGYFpH5nH_",
        "colab": {
          "base_uri": "https://localhost:8080/"
        },
        "outputId": "807218d3-19fd-4126-e936-3599f1f937b2"
      },
      "source": [
        "import numpy as np333iaamport pandas as pd\n",
        "import seaborn as sns\n",
        "import re\n",
        "import matplotlib.pyplot as plt\n",
        "\n",
        "from collections import defaultdict, Counter\n",
        "from time import time\n",
        "from scipy.sparse import hstack, csr_matrix\n",
        "from random import sample\n",
        "\n",
        "from sklearn.feature_extraction.text import TfidfVectorizer, CountVectorizer\n",
        "from sklearn.model_selection import train_test_split, GridSearchCV\n",
        "from sklearn.linear_model import LogisticRegression\n",
        "from sklearn.metrics import classification_report, confusion_matrix\n",
        "from sklearn.naive_bayes import MultinomialNB\n",
        "from sklearn.ensemble import AdaBoostClassifier\n",
        "from sklearn.preprocessing import LabelEncoder, MinMaxScaler\n",
        "from sklearn.svm import SVC\n",
        "from sklearn.pipeline import Pipeline\n",
        "\n",
        "from keras.models import Model\n",
        "from keras.layers import LSTM, Activation, Dense, Dropout, Input, Embedding, Bidirectional, Conv1D, GlobalAveragePooling1D, GlobalMaxPooling1D, concatenate\n",
        "from keras.optimizers import SGD, Adam\n",
        "from keras.preprocessing.text import Tokenizer\n",
        "from keras.preprocessing import sequence\n",
        "from keras.utils import to_categorical\n",
        "from keras.callbacks import EarlyStopping, ReduceLROnPlateau\n",
        "from keras.metrics import AUC\n",
        "\n",
        "import tensorflow_datasets as tfds\n",
        "import tensorflow as tf\n",
        "\n",
        "from gensim.models.doc2vec import Doc2Vec, TaggedDocument\n",
        "from transformers import RobertaTokenizer, TFRobertaModel, TFRobertaForSequenceClassification\n",
        "\n",
        "import nltk\n",
        "nltk.download('stopwords')\n",
        "from nltk.corpus import stopwords \n",
        "\n",
        "%matplotlib inline\n",
        "tfds.disable_progress_bar()"
      ],
      "execution_count": null,
      "outputs": [
        {
          "output_type": "stream",
          "text": [
            "[nltk_data] Downloading package stopwords to /root/nltk_data...\n",
            "[nltk_data]   Unzipping corpora/stopwords.zip.\n"
          ],
          "name": "stdout"
        }
      ]
    },
    {
      "cell_type": "code",
      "metadata": {
        "id": "qk_XDdbGWFWE"
      },
      "source": [
        "train_data = pd.read_csv(\"./train.csv\")\n",
        "test_data = pd.read_csv(\"./valid.csv\")"
      ],
      "execution_count": null,
      "outputs": []
    },
    {
      "cell_type": "code",
      "metadata": {
        "id": "SBDpH_SHiVt1"
      },
      "source": [
        "def get_incorrect_predictions(inputs, labels, predictions):\n",
        "  wrong_indices = []\n",
        "  for i in range(len(predictions)):\n",
        "    if predictions[i] != labels.tolist()[i]:\n",
        "      wrong_indices.append(i)\n",
        "  copy = inputs.copy()\n",
        "  copy[\"Predicted\"] = predictions\n",
        "  return copy.iloc[wrong_indices]\n",
        "\n",
        "def get_correct_predictions(inputs, labels, predictions):\n",
        "  correct_indices = []\n",
        "  for i in range(len(predictions)):\n",
        "    if predictions[i] == labels.tolist()[i]:\n",
        "      correct_indices.append(i)\n",
        "  copy = inputs.copy()\n",
        "  copy[\"Predicted\"] = predictions\n",
        "  return copy.iloc[correct_indices]"
      ],
      "execution_count": null,
      "outputs": []
    },
    {
      "cell_type": "markdown",
      "metadata": {
        "id": "LQlvquYX5nH_"
      },
      "source": [
        "## Data Cleaning"
      ]
    },
    {
      "cell_type": "code",
      "metadata": {
        "id": "7GsWyk1a5nH_"
      },
      "source": [
        "train_x, valid_x, train_y, valid_y = train_test_split(train_data.drop(\"Id\", 1).drop(\"CreationDate\", 1), train_data[\"Y\"], test_size=15000)\n",
        "\n",
        "test_x = test_data.drop(\"Id\", 1).drop(\"CreationDate\", 1)\n",
        "test_y = test_data[\"Y\"]"
      ],
      "execution_count": null,
      "outputs": []
    },
    {
      "cell_type": "code",
      "metadata": {
        "scrolled": true,
        "id": "3W8laAgp5nIA"
      },
      "source": [
        "def cleanText(text):\n",
        "    return re.sub(' +', ' ', re.sub(r\"<.*?>\", \" \", text).replace(\"\\n\", \" \").replace(\"\\r\", \" \")).lower()\n",
        "\n",
        "def cleanTags(text):\n",
        "    return text.replace(\"><\",\" \").replace(\">\", \"\").replace(\"<\", \"\").lower()"
      ],
      "execution_count": null,
      "outputs": []
    },
    {
      "cell_type": "code",
      "metadata": {
        "id": "B0N0nPbE5nIA"
      },
      "source": [
        "def extract_title_from_dataset(ds):\n",
        "    return ds['Title'].apply(lambda title: cleanText(title))\n",
        "\n",
        "def extract_body_from_dataset(ds):\n",
        "    return ds['Body'].apply(lambda body: cleanText(body))\n",
        "\n",
        "def extract_tags_from_dataset(ds):\n",
        "    return ds['Tags'].apply(lambda tags: cleanTags(tags))\n",
        "\n",
        "train_x_title = extract_title_from_dataset(train_x)\n",
        "train_x_body = extract_body_from_dataset(train_x)\n",
        "train_x_tags = extract_tags_from_dataset(train_x)\n",
        "\n",
        "valid_x_title = extract_title_from_dataset(valid_x)\n",
        "valid_x_body = extract_body_from_dataset(valid_x)\n",
        "valid_x_tags = extract_tags_from_dataset(valid_x)\n",
        "\n",
        "test_x_title = extract_title_from_dataset(test_x)\n",
        "test_x_body = extract_body_from_dataset(test_x)\n",
        "test_x_tags = extract_tags_from_dataset(test_x)"
      ],
      "execution_count": null,
      "outputs": []
    },
    {
      "cell_type": "code",
      "metadata": {
        "id": "VRwE-nS5xuBT"
      },
      "source": [
        "pd.set_option('display.max_colwidth', None)\n",
        "train_x_cleaned = train_x.copy()\n",
        "train_x_cleaned[\"Title\"] = train_x_title\n",
        "train_x_cleaned[\"Body\"] = train_x_body\n",
        "train_x_cleaned[\"Tags\"] = train_x_tags\n",
        "\n",
        "valid_x_cleaned = valid_x.copy()\n",
        "valid_x_cleaned[\"Title\"] = valid_x_title\n",
        "valid_x_cleaned[\"Body\"] = valid_x_body\n",
        "valid_x_cleaned[\"Tags\"] = valid_x_tags\n",
        "\n",
        "test_x_cleaned = test_x.copy()\n",
        "test_x_cleaned[\"Title\"] = test_x_title\n",
        "test_x_cleaned[\"Body\"] = test_x_body\n",
        "test_x_cleaned[\"Tags\"] = test_x_tags"
      ],
      "execution_count": null,
      "outputs": []
    },
    {
      "cell_type": "code",
      "metadata": {
        "id": "_4r6OVT2WdOV",
        "colab": {
          "base_uri": "https://localhost:8080/"
        },
        "outputId": "19de0c74-f4ed-4a0a-c71a-34351f57ef02"
      },
      "source": [
        "train_x_cleaned.head()"
      ],
      "execution_count": null,
      "outputs": [
        {
          "output_type": "execute_result",
          "data": {
            "text/html": [
              "<div>\n",
              "<style scoped>\n",
              "    .dataframe tbody tr th:only-of-type {\n",
              "        vertical-align: middle;\n",
              "    }\n",
              "\n",
              "    .dataframe tbody tr th {\n",
              "        vertical-align: top;\n",
              "    }\n",
              "\n",
              "    .dataframe thead th {\n",
              "        text-align: right;\n",
              "    }\n",
              "</style>\n",
              "<table border=\"1\" class=\"dataframe\">\n",
              "  <thead>\n",
              "    <tr style=\"text-align: right;\">\n",
              "      <th></th>\n",
              "      <th>Title</th>\n",
              "      <th>Body</th>\n",
              "      <th>Tags</th>\n",
              "      <th>Y</th>\n",
              "    </tr>\n",
              "  </thead>\n",
              "  <tbody>\n",
              "    <tr>\n",
              "      <th>19086</th>\n",
              "      <td>(swift ios) getting all numbers below a certain integer</td>\n",
              "      <td>quick question. i was wondering how to be able to get all the numbers below a certain integer. so like if the number is 5, it should get 4,3,2,1,</td>\n",
              "      <td>swift swift3</td>\n",
              "      <td>LQ_EDIT</td>\n",
              "    </tr>\n",
              "    <tr>\n",
              "      <th>5697</th>\n",
              "      <td>javascript - output random object from array of objects</td>\n",
              "      <td>quick question, i have an array of objects: var objects = [ {username: jon, count: 5}, {username: sally, count: 7}, {username: mark, count: 9, ] i want to output one of these objects at random so that i can access its properties and not just it's index. how do i do this?</td>\n",
              "      <td>javascript arrays object random</td>\n",
              "      <td>LQ_CLOSE</td>\n",
              "    </tr>\n",
              "    <tr>\n",
              "      <th>4841</th>\n",
              "      <td>help to using switch case in c++?</td>\n",
              "      <td>how do i use switch case in this code ?? i have tried several times , but i really do not know how to make it without error . i don't know anywhere i put it ?? #include int x,y; int sum(int a,int b) { int c; c = a+b; return (c); } int sub (int a ,int b) { int c; c = a-b ; return (c); } int multi ( int a, int b ) { int c ; c = a*b; return (c); } float div ( int a , int b) { float c; c = a/b ; return (c); } main() { cout&lt;&lt;\"enter the value of x = \"; cin&gt;&gt;x; cout&lt;&lt;\"enter the value of y = \"; cin&gt;&gt;y; cout&lt;&lt;\"x + y = \"&lt;&lt; sum(x,y); cout&lt;&lt;\"\\n x - y = \"&lt;&lt; sub(x,y); cout&lt;&lt;\"\\n x * y = \"&lt;&lt; multi(x,y); cout&lt;&lt;\"\\n x /y = \"&lt;&lt; div (x,y); cin&gt;&gt;\"\\n\"; }</td>\n",
              "      <td>c++ switch-statement</td>\n",
              "      <td>LQ_EDIT</td>\n",
              "    </tr>\n",
              "    <tr>\n",
              "      <th>20993</th>\n",
              "      <td>insert data to database using foreach loop php</td>\n",
              "      <td>ex: if i have code : $data = array('a','b','c'); foreach($data as $val){ mysql_query(\"insert into db (`title`)values('$val')\"); } i want to insert all data from variable $val how can i coding it ? please help !!! thank !!</td>\n",
              "      <td>php</td>\n",
              "      <td>LQ_CLOSE</td>\n",
              "    </tr>\n",
              "    <tr>\n",
              "      <th>13169</th>\n",
              "      <td>git hangs macos sierra terminal with no recovery</td>\n",
              "      <td>running git version 2.10.2 (from homebrew) on macos sierra 10.12.1. when i perform a git pull it completely hangs my terminal. if i force quit terminal and relaunch then terminal will not start. i've tried the following (from other answers): change over from using dsa keys to rsa keys (due to deprecation of rsa in the latest openssh) updated to the latest homebrew and updated git tried a different terminal (iterm) ensured xcode is up-to-date and reinstalled commandline tools (xcode-select --install) the fact that it completely hangs terminal and can't recover makes it very hard to diagnose and it seems to mess with a number of other apps after this, requiring a complete reboot. any help gratefully received!</td>\n",
              "      <td>git terminal macos-sierra</td>\n",
              "      <td>HQ</td>\n",
              "    </tr>\n",
              "  </tbody>\n",
              "</table>\n",
              "</div>"
            ],
            "text/plain": [
              "                                                         Title  ...         Y\n",
              "19086  (swift ios) getting all numbers below a certain integer  ...   LQ_EDIT\n",
              "5697   javascript - output random object from array of objects  ...  LQ_CLOSE\n",
              "4841                         help to using switch case in c++?  ...   LQ_EDIT\n",
              "20993           insert data to database using foreach loop php  ...  LQ_CLOSE\n",
              "13169         git hangs macos sierra terminal with no recovery  ...        HQ\n",
              "\n",
              "[5 rows x 4 columns]"
            ]
          },
          "metadata": {
            "tags": []
          },
          "execution_count": 11
        }
      ]
    },
    {
      "cell_type": "markdown",
      "metadata": {
        "id": "0QNekdK9ivIu"
      },
      "source": [
        "## EDA"
      ]
    },
    {
      "cell_type": "code",
      "metadata": {
        "id": "K6EZBo28m9My"
      },
      "source": [
        "def plot_top_stopwords(text, n=10): \n",
        "    stop_words = set(stopwords.words('english'))   \n",
        "    samples = text.str.split().values.tolist()\n",
        "    corpus = [word for sample in samples for word in sample]\n",
        "    word_counts = defaultdict(int)\n",
        "  \n",
        "    for word in corpus:\n",
        "        if word in stop_words:\n",
        "            word_counts[word] += 1\n",
        "            \n",
        "    top = sorted(word_counts.items(), key=lambda x:x[1], reverse=True)[:n]\n",
        "    words = [x[1] for x in top]\n",
        "    counts = [x[0] for x in top] \n",
        "\n",
        "    sns.barplot(x=words, y=counts)\n",
        "\n",
        "    return top\n",
        "\n",
        "def plot_top_non_stopwords(text, n=10): \n",
        "    stop_words = set(stopwords.words('english'))   \n",
        "    samples = text.str.split().values.tolist()\n",
        "    corpus = [word for sample in samples for word in sample]\n",
        "    word_counts = defaultdict(int)\n",
        "\n",
        "    for word in corpus:\n",
        "      if word not in stop_words:\n",
        "          word_counts[word] += 1\n",
        "            \n",
        "    top = sorted(word_counts.items(), key=lambda x:x[1], reverse=True)[:n]\n",
        "    words = [x[1] for x in top]\n",
        "    counts = [x[0] for x in top] \n",
        "\n",
        "    sns.barplot(x=words, y=counts)\n",
        "\n",
        "    return top\n",
        "\n",
        "def plot_top_ngram_counts(corpus, n=2, top=20):\n",
        "    cv = CountVectorizer(ngram_range=(n, n))\n",
        "    counts = cv.fit_transform(corpus).sum(axis=0)\n",
        "    word_counts = [(word, counts[0, index]) for word, index in cv.vocabulary_.items()]\n",
        "    sorted_word_counts = sorted(word_counts, key=lambda x: x[1], reverse=True)\n",
        "\n",
        "    top_words = sorted_word_counts[:top]\n",
        "    words = [x[1] for x in top_words]\n",
        "    counts = [x[0] for x in top_words]\n",
        "  \n",
        "    sns.barplot(x=words, y=counts)\n",
        "\n",
        "    return top_words"
      ],
      "execution_count": null,
      "outputs": []
    },
    {
      "cell_type": "code",
      "metadata": {
        "id": "sooFlb7qiuYI",
        "colab": {
          "base_uri": "https://localhost:8080/"
        },
        "outputId": "784aea1f-e46b-41ed-87f0-ab08306ac086"
      },
      "source": [
        "train_x_title.str.split().map(lambda x: len(x)).hist()"
      ],
      "execution_count": null,
      "outputs": [
        {
          "output_type": "execute_result",
          "data": {
            "text/plain": [
              "<matplotlib.axes._subplots.AxesSubplot at 0x7f8da54479d0>"
            ]
          },
          "metadata": {
            "tags": []
          },
          "execution_count": 13
        },
        {
          "output_type": "display_data",
          "data": {
            "image/png": "[encoded data removed]",
            "text/plain": [
              "<Figure size 432x288 with 1 Axes>"
            ]
          },
          "metadata": {
            "tags": [],
            "needs_background": "light"
          }
        }
      ]
    },
    {
      "cell_type": "code",
      "metadata": {
        "id": "eOx-KKGjeLEX",
        "colab": {
          "base_uri": "https://localhost:8080/"
        },
        "outputId": "2a731e09-088a-4cfe-bd56-19bc989f041a"
      },
      "source": [
        "plot_top_stopwords(train_x_title)"
      ],
      "execution_count": null,
      "outputs": [
        {
          "output_type": "execute_result",
          "data": {
            "text/plain": [
              "[('to', 11890),\n",
              " ('in', 10440),\n",
              " ('how', 7543),\n",
              " ('a', 6961),\n",
              " ('the', 5149),\n",
              " ('of', 3863),\n",
              " ('i', 3575),\n",
              " ('is', 3355),\n",
              " ('and', 3301),\n",
              " ('with', 3181)]"
            ]
          },
          "metadata": {
            "tags": []
          },
          "execution_count": 14
        },
        {
          "output_type": "display_data",
          "data": {
            "image/png": "[encoded data removed]",
            "text/plain": [
              "<Figure size 432x288 with 1 Axes>"
            ]
          },
          "metadata": {
            "tags": [],
            "needs_background": "light"
          }
        }
      ]
    },
    {
      "cell_type": "code",
      "metadata": {
        "id": "9H4x7NNUeSd5",
        "colab": {
          "base_uri": "https://localhost:8080/"
        },
        "outputId": "9bd024e1-3e5f-4c16-a3ba-572650e2710e"
      },
      "source": [
        "plot_top_non_stopwords(train_x_title)"
      ],
      "execution_count": null,
      "outputs": [
        {
          "output_type": "execute_result",
          "data": {
            "text/plain": [
              "[('using', 1989),\n",
              " ('-', 1502),\n",
              " ('python', 1224),\n",
              " ('get', 1211),\n",
              " ('string', 1198),\n",
              " ('array', 1170),\n",
              " ('error', 1130),\n",
              " ('file', 1074),\n",
              " ('android', 1035),\n",
              " ('use', 1020)]"
            ]
          },
          "metadata": {
            "tags": []
          },
          "execution_count": 15
        },
        {
          "output_type": "display_data",
          "data": {
            "image/png": "[encoded data removed]",
            "text/plain": [
              "<Figure size 432x288 with 1 Axes>"
            ]
          },
          "metadata": {
            "tags": [],
            "needs_background": "light"
          }
        }
      ]
    },
    {
      "cell_type": "code",
      "metadata": {
        "id": "A7C8DfN9ev_4",
        "colab": {
          "base_uri": "https://localhost:8080/"
        },
        "outputId": "508d1df3-d8af-4279-bc59-ba014c4c2f45"
      },
      "source": [
        "plot_top_ngram_counts(train_x_title, 2)"
      ],
      "execution_count": null,
      "outputs": [
        {
          "output_type": "execute_result",
          "data": {
            "text/plain": [
              "[('how to', 5372),\n",
              " ('how can', 914),\n",
              " ('how do', 742),\n",
              " ('what is', 634),\n",
              " ('to get', 564),\n",
              " ('in python', 514),\n",
              " ('is the', 506),\n",
              " ('to use', 467),\n",
              " ('is not', 458),\n",
              " ('not working', 408),\n",
              " ('in java', 387),\n",
              " ('in the', 381),\n",
              " ('in android', 361),\n",
              " ('way to', 322),\n",
              " ('to create', 319),\n",
              " ('difference between', 307),\n",
              " ('an array', 299),\n",
              " ('android studio', 285),\n",
              " ('want to', 284),\n",
              " ('to make', 281)]"
            ]
          },
          "metadata": {
            "tags": []
          },
          "execution_count": 16
        },
        {
          "output_type": "display_data",
          "data": {
            "image/png": "[encoded data removed]",
            "text/plain": [
              "<Figure size 432x288 with 1 Axes>"
            ]
          },
          "metadata": {
            "tags": [],
            "needs_background": "light"
          }
        }
      ]
    },
    {
      "cell_type": "code",
      "metadata": {
        "id": "YQK_7h00js04",
        "colab": {
          "base_uri": "https://localhost:8080/"
        },
        "outputId": "19248ca6-c23d-4a07-ea58-ed122368155a"
      },
      "source": [
        "train_x_body.str.split().map(lambda x: len(x)).hist(range=[0, 200])"
      ],
      "execution_count": null,
      "outputs": [
        {
          "output_type": "execute_result",
          "data": {
            "text/plain": [
              "<matplotlib.axes._subplots.AxesSubplot at 0x7f8d9ff30890>"
            ]
          },
          "metadata": {
            "tags": []
          },
          "execution_count": 17
        },
        {
          "output_type": "display_data",
          "data": {
            "image/png": "[encoded data removed]",
            "text/plain": [
              "<Figure size 432x288 with 1 Axes>"
            ]
          },
          "metadata": {
            "tags": [],
            "needs_background": "light"
          }
        }
      ]
    },
    {
      "cell_type": "code",
      "metadata": {
        "id": "lLlH2-Mco_Bf",
        "colab": {
          "base_uri": "https://localhost:8080/"
        },
        "outputId": "8063f918-81d9-4ccf-d9b2-aea68f221603"
      },
      "source": [
        "plot_top_stopwords(train_x_body)"
      ],
      "execution_count": null,
      "outputs": [
        {
          "output_type": "execute_result",
          "data": {
            "text/plain": [
              "[('the', 101761),\n",
              " ('i', 87441),\n",
              " ('to', 76648),\n",
              " ('a', 49978),\n",
              " ('is', 43049),\n",
              " ('in', 40369),\n",
              " ('and', 39963),\n",
              " ('of', 28991),\n",
              " ('this', 24408),\n",
              " ('it', 24066)]"
            ]
          },
          "metadata": {
            "tags": []
          },
          "execution_count": 18
        },
        {
          "output_type": "display_data",
          "data": {
            "image/png": "[encoded data removed]",
            "text/plain": [
              "<Figure size 432x288 with 1 Axes>"
            ]
          },
          "metadata": {
            "tags": [],
            "needs_background": "light"
          }
        }
      ]
    },
    {
      "cell_type": "code",
      "metadata": {
        "id": "DXK-KeClpB7j",
        "colab": {
          "base_uri": "https://localhost:8080/"
        },
        "outputId": "89ce0d71-51fd-4bb0-fb6f-c4a27cdfb3c1"
      },
      "source": [
        "plot_top_non_stopwords(train_x_body)"
      ],
      "execution_count": null,
      "outputs": [
        {
          "output_type": "execute_result",
          "data": {
            "text/plain": [
              "[('=', 58490),\n",
              " ('{', 41053),\n",
              " ('}', 38700),\n",
              " ('new', 11681),\n",
              " ('using', 10245),\n",
              " ('want', 9605),\n",
              " ('public', 9451),\n",
              " ('code', 9292),\n",
              " ('like', 9219),\n",
              " ('return', 9134)]"
            ]
          },
          "metadata": {
            "tags": []
          },
          "execution_count": 19
        },
        {
          "output_type": "display_data",
          "data": {
            "image/png": "[encoded data removed]",
            "text/plain": [
              "<Figure size 432x288 with 1 Axes>"
            ]
          },
          "metadata": {
            "tags": [],
            "needs_background": "light"
          }
        }
      ]
    },
    {
      "cell_type": "code",
      "metadata": {
        "id": "4g01AS8cpEvF",
        "colab": {
          "base_uri": "https://localhost:8080/"
        },
        "outputId": "3c3f9341-6b70-4bce-bada-59de0a902005"
      },
      "source": [
        "plot_top_ngram_counts(train_x_body, 2)"
      ],
      "execution_count": null,
      "outputs": [
        {
          "output_type": "execute_result",
          "data": {
            "text/plain": [
              "[('gt lt', 18446),\n",
              " ('want to', 7423),\n",
              " ('in the', 7421),\n",
              " ('of the', 6358),\n",
              " ('trying to', 4684),\n",
              " ('how to', 4557),\n",
              " ('this is', 4295),\n",
              " ('is the', 4213),\n",
              " ('to the', 4006),\n",
              " ('lt div', 3602),\n",
              " ('the following', 3458),\n",
              " ('lt lt', 3451),\n",
              " ('need to', 3434),\n",
              " ('how can', 3415),\n",
              " ('to do', 3201),\n",
              " ('to be', 3170),\n",
              " ('on the', 2956),\n",
              " ('is not', 2882),\n",
              " ('is there', 2866),\n",
              " ('to use', 2777)]"
            ]
          },
          "metadata": {
            "tags": []
          },
          "execution_count": 20
        },
        {
          "output_type": "display_data",
          "data": {
            "image/png": "[encoded data removed]",
            "text/plain": [
              "<Figure size 432x288 with 1 Axes>"
            ]
          },
          "metadata": {
            "tags": [],
            "needs_background": "light"
          }
        }
      ]
    },
    {
      "cell_type": "code",
      "metadata": {
        "id": "zwOOIGIVj-zC",
        "colab": {
          "base_uri": "https://localhost:8080/"
        },
        "outputId": "110be750-0701-40e2-b208-8fbb588f14a9"
      },
      "source": [
        "train_x_tags.str.split().map(lambda x: len(x)).hist()"
      ],
      "execution_count": null,
      "outputs": [
        {
          "output_type": "execute_result",
          "data": {
            "text/plain": [
              "<matplotlib.axes._subplots.AxesSubplot at 0x7f8d9a687d10>"
            ]
          },
          "metadata": {
            "tags": []
          },
          "execution_count": 21
        },
        {
          "output_type": "display_data",
          "data": {
            "image/png": "[encoded data removed]",
            "text/plain": [
              "<Figure size 432x288 with 1 Axes>"
            ]
          },
          "metadata": {
            "tags": [],
            "needs_background": "light"
          }
        }
      ]
    },
    {
      "cell_type": "code",
      "metadata": {
        "id": "omdsrgU1pJkR",
        "colab": {
          "base_uri": "https://localhost:8080/"
        },
        "outputId": "c70fc888-c42b-4fc8-9575-0811cd4cd49d"
      },
      "source": [
        "plot_top_stopwords(train_x_tags)"
      ],
      "execution_count": null,
      "outputs": [
        {
          "output_type": "execute_result",
          "data": {
            "text/plain": [
              "[('this', 8),\n",
              " ('having', 2),\n",
              " ('each', 2),\n",
              " ('between', 2),\n",
              " ('m', 2),\n",
              " ('where', 2),\n",
              " ('ll', 1),\n",
              " ('any', 1)]"
            ]
          },
          "metadata": {
            "tags": []
          },
          "execution_count": 22
        },
        {
          "output_type": "display_data",
          "data": {
            "image/png": "[encoded data removed]",
            "text/plain": [
              "<Figure size 432x288 with 1 Axes>"
            ]
          },
          "metadata": {
            "tags": [],
            "needs_background": "light"
          }
        }
      ]
    },
    {
      "cell_type": "code",
      "metadata": {
        "id": "DDTelFUGpLci",
        "colab": {
          "base_uri": "https://localhost:8080/"
        },
        "outputId": "85ccf8ed-6761-43ea-e8e5-3fa6ed4e0a34"
      },
      "source": [
        "plot_top_non_stopwords(train_x_tags)"
      ],
      "execution_count": null,
      "outputs": [
        {
          "output_type": "execute_result",
          "data": {
            "text/plain": [
              "[('javascript', 3594),\n",
              " ('python', 3339),\n",
              " ('java', 3119),\n",
              " ('android', 2404),\n",
              " ('php', 2101),\n",
              " ('c#', 2081),\n",
              " ('html', 1714),\n",
              " ('c++', 1489),\n",
              " ('css', 1059),\n",
              " ('jquery', 962)]"
            ]
          },
          "metadata": {
            "tags": []
          },
          "execution_count": 23
        },
        {
          "output_type": "display_data",
          "data": {
            "image/png": "[encoded data removed]",
            "text/plain": [
              "<Figure size 432x288 with 1 Axes>"
            ]
          },
          "metadata": {
            "tags": [],
            "needs_background": "light"
          }
        }
      ]
    },
    {
      "cell_type": "code",
      "metadata": {
        "id": "31s8LG2GpNpc",
        "colab": {
          "base_uri": "https://localhost:8080/"
        },
        "outputId": "895e5009-a160-4ecc-9ef1-5a1caadc97a6"
      },
      "source": [
        "plot_top_ngram_counts(train_x_tags, 2)"
      ],
      "execution_count": null,
      "outputs": [
        {
          "output_type": "execute_result",
          "data": {
            "text/plain": [
              "[('asp net', 719),\n",
              " ('html css', 707),\n",
              " ('javascript jquery', 669),\n",
              " ('python python', 660),\n",
              " ('java android', 640),\n",
              " ('android android', 619),\n",
              " ('sql server', 616),\n",
              " ('node js', 532),\n",
              " ('visual studio', 522),\n",
              " ('javascript html', 439),\n",
              " ('ios swift', 393),\n",
              " ('net core', 360),\n",
              " ('php mysql', 346),\n",
              " ('jquery html', 336),\n",
              " ('react native', 302),\n",
              " ('android studio', 284),\n",
              " ('php html', 280),\n",
              " ('sql sql', 274),\n",
              " ('javascript php', 240),\n",
              " ('python pandas', 223)]"
            ]
          },
          "metadata": {
            "tags": []
          },
          "execution_count": 24
        },
        {
          "output_type": "display_data",
          "data": {
            "image/png": "[encoded data removed]",
            "text/plain": [
              "<Figure size 432x288 with 1 Axes>"
            ]
          },
          "metadata": {
            "tags": [],
            "needs_background": "light"
          }
        }
      ]
    },
    {
      "cell_type": "markdown",
      "metadata": {
        "id": "-X_ITpYQ5nIA"
      },
      "source": [
        "## Feature Engineering"
      ]
    },
    {
      "cell_type": "code",
      "metadata": {
        "id": "pHlDFHYg5nIA"
      },
      "source": [
        "def transform_to_sparse_matrix(data, column_name, cb):\n",
        "    return csr_matrix([[cb(val)] for val in data[column_name]])\n",
        "\n",
        "def get_length(val):\n",
        "    return len(str(val).split())\n",
        "\n",
        "train_x_title_length = transform_to_sparse_matrix(train_x, \"Title\", get_length)\n",
        "train_x_body_length = transform_to_sparse_matrix(train_x, \"Body\", get_length)\n",
        "train_x_tag_length = transform_to_sparse_matrix(train_x, \"Tags\", get_length)\n",
        "\n",
        "valid_x_title_length = transform_to_sparse_matrix(valid_x, \"Title\", get_length)\n",
        "valid_x_body_length = transform_to_sparse_matrix(valid_x, \"Body\", get_length)\n",
        "valid_x_tag_length = transform_to_sparse_matrix(valid_x, \"Tags\", get_length)\n",
        "\n",
        "test_x_title_length = transform_to_sparse_matrix(test_x, \"Title\", get_length)\n",
        "test_x_body_length = transform_to_sparse_matrix(test_x, \"Body\", get_length)\n",
        "test_x_tag_length = transform_to_sparse_matrix(test_x, \"Tags\", get_length)"
      ],
      "execution_count": null,
      "outputs": []
    },
    {
      "cell_type": "markdown",
      "metadata": {
        "id": "f-ztqO0E5nIB"
      },
      "source": [
        "## Word Embeddings"
      ]
    },
    {
      "cell_type": "markdown",
      "metadata": {
        "id": "8-7Hg5Rn5nIB"
      },
      "source": [
        "### Tfidf"
      ]
    },
    {
      "cell_type": "code",
      "metadata": {
        "id": "lhfa5KxU5nIB"
      },
      "source": [
        "title_vectorizer = TfidfVectorizer(analyzer='word', stop_words ='english')\n",
        "train_x_title_embeddings = title_vectorizer.fit_transform(train_x_title)\n",
        "valid_x_title_embeddings = title_vectorizer.transform(valid_x_title)\n",
        "test_x_title_embeddings = title_vectorizer.transform(test_x_title)\n",
        "\n",
        "body_vectorizer = TfidfVectorizer(analyzer='word', stop_words ='english')\n",
        "train_x_body_embeddings = body_vectorizer.fit_transform(train_x_body)\n",
        "valid_x_body_embeddings = body_vectorizer.transform(valid_x_body)\n",
        "test_x_body_embeddings = body_vectorizer.transform(test_x_body)\n",
        "\n",
        "tags_vectorizer = TfidfVectorizer(analyzer='word', stop_words ='english')\n",
        "train_x_tag_embeddings = tags_vectorizer.fit_transform(train_x_tags)\n",
        "valid_x_tag_embeddings = tags_vectorizer.transform(valid_x_tags)\n",
        "test_x_tag_embeddings = tags_vectorizer.transform(test_x_tags)"
      ],
      "execution_count": null,
      "outputs": []
    },
    {
      "cell_type": "code",
      "metadata": {
        "id": "E4v-JXef5nIC"
      },
      "source": [
        "train_x_tfidf_embeddings = hstack((\n",
        "    train_x_title_embeddings, \n",
        "    train_x_body_embeddings, \n",
        "    train_x_tag_embeddings, \n",
        "    train_x_title_length, \n",
        "    train_x_body_length, \n",
        "    train_x_tag_length\n",
        "))\n",
        "\n",
        "valid_x_tfidf_embeddings = hstack((\n",
        "    valid_x_title_embeddings, \n",
        "    valid_x_body_embeddings, \n",
        "    valid_x_tag_embeddings, \n",
        "    valid_x_title_length, \n",
        "    valid_x_body_length, \n",
        "    valid_x_tag_length\n",
        "))\n",
        "\n",
        "test_x_tfidf_embeddings = hstack((\n",
        "    test_x_title_embeddings, \n",
        "    test_x_body_embeddings, \n",
        "    test_x_tag_embeddings, \n",
        "    test_x_title_length, \n",
        "    test_x_body_length, \n",
        "    test_x_tag_length\n",
        "))"
      ],
      "execution_count": null,
      "outputs": []
    },
    {
      "cell_type": "markdown",
      "metadata": {
        "id": "Yg7XPi6k5nIC"
      },
      "source": [
        "### Doc2Vec"
      ]
    },
    {
      "cell_type": "code",
      "metadata": {
        "id": "5q3WNRUJ5nIC"
      },
      "source": [
        "doc2vec_title = Doc2Vec(vector_size=300, min_count=2)\n",
        "doc2vec_body = Doc2Vec(vector_size=300, min_count=2)\n",
        "doc2vec_tags = Doc2Vec(vector_size=300, min_count=2)\n",
        "\n",
        "title_corpus = [TaggedDocument(title.split(), [i]) for i, title in enumerate(train_x[\"Title\"])]\n",
        "body_corpus = [TaggedDocument(body.split(), [i]) for i, body in enumerate(train_x[\"Body\"])]\n",
        "tags_corpus = [TaggedDocument(tags.split(), [i]) for i, tags in enumerate(train_x[\"Tags\"])]\n",
        "\n",
        "doc2vec_title.build_vocab(title_corpus)\n",
        "doc2vec_body.build_vocab(body_corpus)\n",
        "doc2vec_tags.build_vocab(tags_corpus)"
      ],
      "execution_count": null,
      "outputs": []
    },
    {
      "cell_type": "code",
      "metadata": {
        "id": "VCaiSDrn5nIC"
      },
      "source": [
        "doc2vec_title.train(title_corpus, total_examples=doc2vec_title.corpus_count, epochs=10)\n",
        "doc2vec_body.train(body_corpus, total_examples=doc2vec_body.corpus_count, epochs=10)\n",
        "doc2vec_tags.train(tags_corpus, total_examples=doc2vec_tags.corpus_count, epochs=10)"
      ],
      "execution_count": null,
      "outputs": []
    },
    {
      "cell_type": "code",
      "metadata": {
        "id": "N6mTs_ne5nID"
      },
      "source": [
        "doc2vec_title.init_sims(replace=True)\n",
        "doc2vec_body.init_sims(replace=True)\n",
        "doc2vec_tags.init_sims(replace=True)"
      ],
      "execution_count": null,
      "outputs": []
    },
    {
      "cell_type": "code",
      "metadata": {
        "id": "k-hEq13J5nID"
      },
      "source": [
        "train_x_doc2vec_title_embeddings = [doc2vec_title.infer_vector(title.split()) for title in train_x_title]\n",
        "train_x_doc2vec_body_embeddings = [doc2vec_body.infer_vector(body.split()) for body in train_x_body]\n",
        "train_x_doc2vec_tag_embeddings = [doc2vec_tags.infer_vector(tag.split()) for tag in train_x_tags]\n",
        "\n",
        "valid_x_doc2vec_title_embeddings = [doc2vec_title.infer_vector(title.split()) for title in valid_x_title]\n",
        "valid_x_doc2vec_body_embeddings = [doc2vec_body.infer_vector(body.split()) for body in valid_x_body]\n",
        "valid_x_doc2vec_tag_embeddings = [doc2vec_tags.infer_vector(tag.split()) for tag in valid_x_tags]\n",
        "\n",
        "test_x_doc2vec_title_embeddings = [doc2vec_title.infer_vector(title.split()) for title in test_x_title]\n",
        "test_x_doc2vec_body_embeddings = [doc2vec_body.infer_vector(body.split()) for body in test_x_body]\n",
        "test_x_doc2vec_tag_embeddings = [doc2vec_tags.infer_vector(tag.split()) for tag in test_x_tags]"
      ],
      "execution_count": null,
      "outputs": []
    },
    {
      "cell_type": "code",
      "metadata": {
        "id": "bEp98WuFoySp",
        "colab": {
          "base_uri": "https://localhost:8080/"
        },
        "outputId": "de441496-f251-49c4-82f6-4f6b0bc12e50"
      },
      "source": [
        "title_scaler = MinMaxScaler(feature_range=(0,1))\n",
        "body_scaler = MinMaxScaler(feature_range=(0,1))\n",
        "tag_scaler = MinMaxScaler(feature_range=(0,1))\n",
        "\n",
        "title_scaler.fit(train_x_doc2vec_title_embeddings)\n",
        "body_scaler.fit(train_x_doc2vec_body_embeddings)\n",
        "tag_scaler.fit(train_x_doc2vec_tag_embeddings)"
      ],
      "execution_count": null,
      "outputs": [
        {
          "output_type": "execute_result",
          "data": {
            "text/plain": [
              "MinMaxScaler(copy=True, feature_range=(0, 1))"
            ]
          },
          "metadata": {
            "tags": []
          },
          "execution_count": 32
        }
      ]
    },
    {
      "cell_type": "code",
      "metadata": {
        "id": "CPrkLzlgvkRX"
      },
      "source": [
        "train_x_doc2vec_normalized_title_embeddings = title_scaler.transform(train_x_doc2vec_title_embeddings)\n",
        "train_x_doc2vec_normalized_body_embeddings = body_scaler.transform(train_x_doc2vec_body_embeddings)\n",
        "train_x_doc2vec_normalized_tag_embeddings = tag_scaler.transform(train_x_doc2vec_tag_embeddings)\n",
        "\n",
        "valid_x_doc2vec_normalized_title_embeddings = title_scaler.transform(valid_x_doc2vec_title_embeddings)\n",
        "valid_x_doc2vec_normalized_body_embeddings = body_scaler.transform(valid_x_doc2vec_body_embeddings)\n",
        "valid_x_doc2vec_normalized_tag_embeddings = tag_scaler.transform(valid_x_doc2vec_tag_embeddings)\n",
        "\n",
        "test_x_doc2vec_normalized_title_embeddings = title_scaler.transform(test_x_doc2vec_title_embeddings)\n",
        "test_x_doc2vec_normalized_body_embeddings = body_scaler.transform(test_x_doc2vec_body_embeddings)\n",
        "test_x_doc2vec_normalized_tag_embeddings = tag_scaler.transform(test_x_doc2vec_tag_embeddings)"
      ],
      "execution_count": null,
      "outputs": []
    },
    {
      "cell_type": "code",
      "metadata": {
        "id": "wQlpyVS25nIE"
      },
      "source": [
        "train_x_doc2vec_embeddings = hstack((train_x_doc2vec_normalized_title_embeddings, train_x_doc2vec_normalized_body_embeddings, train_x_doc2vec_normalized_tag_embeddings, train_x_title_length, train_x_body_length, train_x_tag_length))\n",
        "valid_x_doc2vec_embeddings = hstack((valid_x_doc2vec_normalized_title_embeddings, valid_x_doc2vec_normalized_body_embeddings, valid_x_doc2vec_normalized_tag_embeddings, valid_x_title_length, valid_x_body_length, valid_x_tag_length))\n",
        "test_x_doc2vec_embeddings = hstack((test_x_doc2vec_normalized_title_embeddings, test_x_doc2vec_normalized_body_embeddings, test_x_doc2vec_normalized_tag_embeddings, test_x_title_length, test_x_body_length, test_x_tag_length))"
      ],
      "execution_count": null,
      "outputs": []
    },
    {
      "cell_type": "markdown",
      "metadata": {
        "id": "4fxYEfZf5nIE"
      },
      "source": [
        "### Glove"
      ]
    },
    {
      "cell_type": "code",
      "metadata": {
        "id": "xVIvaaMc5nIE"
      },
      "source": [
        "def get_word_embeddings_from_glove_file(file_name):\n",
        "    word_to_embedding_mapping = {}\n",
        "    \n",
        "    with open(file_name, 'r') as file:\n",
        "        for line in file:\n",
        "            line_as_list = line.split()\n",
        "            word = line_as_list[0]\n",
        "            word_embedding = np.array(line_as_list[1:], dtype=np.float64)\n",
        "            word_to_embedding_mapping[word] = word_embedding\n",
        "            \n",
        "    return word_to_embedding_mapping\n",
        "\n",
        "glove_mapping = get_word_embeddings_from_glove_file(\"glove.twitter.27B.200d.txt\")"
      ],
      "execution_count": null,
      "outputs": []
    },
    {
      "cell_type": "code",
      "metadata": {
        "id": "n4YnltlT5nIE"
      },
      "source": [
        "def get_sentence_embeddings(sentences):\n",
        "    embeddings = []\n",
        "    for sentence in sentences:\n",
        "        sentence_embedding = np.zeros(glove_mapping['#'].shape)\n",
        "        for word in sentence.split():\n",
        "            if word in glove_mapping.keys():\n",
        "                word_embedding = glove_mapping[word]\n",
        "            else:\n",
        "                word_embedding = glove_mapping['#']\n",
        "            sentence_embedding = word_embedding / len(sentence)\n",
        "        embeddings.append(sentence_embedding)\n",
        "    return np.array(embeddings)"
      ],
      "execution_count": null,
      "outputs": []
    },
    {
      "cell_type": "code",
      "metadata": {
        "id": "Q-BLFyBr5nIE"
      },
      "source": [
        "train_x_glove_title_embeddings = get_sentence_embeddings(train_x_title)\n",
        "train_x_glove_body_embeddings = get_sentence_embeddings(train_x_body)\n",
        "train_x_glove_tag_embeddings = get_sentence_embeddings(train_x_tags)\n",
        "\n",
        "valid_x_glove_title_embeddings = get_sentence_embeddings(valid_x_title)\n",
        "valid_x_glove_body_embeddings = get_sentence_embeddings(valid_x_body)\n",
        "valid_x_glove_tag_embeddings = get_sentence_embeddings(valid_x_tags)\n",
        "\n",
        "test_x_glove_title_embeddings = get_sentence_embeddings(test_x_title)\n",
        "test_x_glove_body_embeddings = get_sentence_embeddings(test_x_body)\n",
        "test_x_glove_tag_embeddings = get_sentence_embeddings(test_x_tags)"
      ],
      "execution_count": null,
      "outputs": []
    },
    {
      "cell_type": "code",
      "metadata": {
        "id": "tuoo8K_w3oYX",
        "colab": {
          "base_uri": "https://localhost:8080/"
        },
        "outputId": "b18cf7a2-a560-47b7-859d-6b76b1419b48"
      },
      "source": [
        "title_scaler = MinMaxScaler(feature_range=(0,1))\n",
        "body_scaler = MinMaxScaler(feature_range=(0,1))\n",
        "tag_scaler = MinMaxScaler(feature_range=(0,1))\n",
        "\n",
        "title_scaler.fit(train_x_glove_title_embeddings)\n",
        "body_scaler.fit(train_x_glove_body_embeddings)\n",
        "tag_scaler.fit(train_x_glove_tag_embeddings)"
      ],
      "execution_count": null,
      "outputs": [
        {
          "output_type": "execute_result",
          "data": {
            "text/plain": [
              "MinMaxScaler(copy=True, feature_range=(0, 1))"
            ]
          },
          "metadata": {
            "tags": []
          },
          "execution_count": 38
        }
      ]
    },
    {
      "cell_type": "code",
      "metadata": {
        "id": "6SBIyjaC3qbu"
      },
      "source": [
        "train_x_glove_normalized_title_embeddings = title_scaler.transform(train_x_glove_title_embeddings)\n",
        "train_x_glove_normalized_body_embeddings = body_scaler.transform(train_x_glove_body_embeddings)\n",
        "train_x_glove_normalized_tag_embeddings = tag_scaler.transform(train_x_glove_tag_embeddings)\n",
        "\n",
        "valid_x_glove_normalized_title_embeddings = title_scaler.transform(valid_x_glove_title_embeddings)\n",
        "valid_x_glove_normalized_body_embeddings = body_scaler.transform(valid_x_glove_body_embeddings)\n",
        "valid_x_glove_normalized_tag_embeddings = tag_scaler.transform(valid_x_glove_tag_embeddings)\n",
        "\n",
        "test_x_glove_normalized_title_embeddings = title_scaler.transform(test_x_glove_title_embeddings)\n",
        "test_x_glove_normalized_body_embeddings = body_scaler.transform(test_x_glove_body_embeddings)\n",
        "test_x_glove_normalized_tag_embeddings = tag_scaler.transform(test_x_glove_tag_embeddings)"
      ],
      "execution_count": null,
      "outputs": []
    },
    {
      "cell_type": "code",
      "metadata": {
        "id": "djPrvu7b5nIF"
      },
      "source": [
        "train_x_glove_embeddings = hstack((train_x_glove_normalized_title_embeddings, train_x_glove_normalized_body_embeddings, train_x_glove_normalized_tag_embeddings, train_x_title_length, train_x_body_length, train_x_tag_length))\n",
        "valid_x_glove_embeddings = hstack((valid_x_glove_normalized_title_embeddings, valid_x_glove_normalized_body_embeddings, valid_x_glove_normalized_tag_embeddings, valid_x_title_length, valid_x_body_length, valid_x_tag_length))\n",
        "test_x_glove_embeddings = hstack((test_x_glove_normalized_title_embeddings, test_x_glove_normalized_body_embeddings, test_x_glove_normalized_tag_embeddings, test_x_title_length, test_x_body_length, test_x_tag_length))"
      ],
      "execution_count": null,
      "outputs": []
    },
    {
      "cell_type": "markdown",
      "metadata": {
        "id": "gyyiGRDO5nIF"
      },
      "source": [
        "## Baseline Models"
      ]
    },
    {
      "cell_type": "code",
      "metadata": {
        "id": "a3Dv7i6X5nIF"
      },
      "source": [
        "def train_model(model, train_inputs, train_labels, valid_inputs):\n",
        "    model.fit(train_inputs, train_labels)\n",
        "    predictions = model.predict(valid_inputs)\n",
        "    \n",
        "    return predictions"
      ],
      "execution_count": null,
      "outputs": []
    },
    {
      "cell_type": "code",
      "metadata": {
        "id": "xs4FAONqp22c"
      },
      "source": [
        "lr_model = LogisticRegression(max_iter=10000, C=1.0)\n",
        "lr_predictions = train_model(lr_model, train_x_tfidf_embeddings, train_y, valid_x_tfidf_embeddings)"
      ],
      "execution_count": null,
      "outputs": []
    },
    {
      "cell_type": "code",
      "metadata": {
        "id": "shK4uhGhtJuZ",
        "colab": {
          "base_uri": "https://localhost:8080/"
        },
        "outputId": "c36f475d-174b-46cd-c9f6-dceab5386b14"
      },
      "source": [
        "print(classification_report(lr_predictions, valid_y))"
      ],
      "execution_count": null,
      "outputs": [
        {
          "output_type": "stream",
          "text": [
            "              precision    recall  f1-score   support\n",
            "\n",
            "          HQ       0.85      0.81      0.83      5194\n",
            "    LQ_CLOSE       0.65      0.68      0.66      4878\n",
            "     LQ_EDIT       0.70      0.71      0.70      4928\n",
            "\n",
            "    accuracy                           0.73     15000\n",
            "   macro avg       0.73      0.73      0.73     15000\n",
            "weighted avg       0.74      0.73      0.74     15000\n",
            "\n"
          ],
          "name": "stdout"
        }
      ]
    },
    {
      "cell_type": "code",
      "metadata": {
        "id": "BBuxyh1O5nIG"
      },
      "source": [
        "# lr_model = LogisticRegression(max_iter = 1000)\n",
        "# nb_model = MultinomialNB()\n",
        "# ada_boost_model = AdaBoostClassifier()\n",
        "# svm_model = SVC()\n",
        "\n",
        "# models = [lr_model, nb_model, ada_boost_model, svm_model]\n",
        "# train_embeddings =  [train_x_tfidf_embeddings, train_x_doc2vec_embeddings, train_x_glove_embeddings]\n",
        "# valid_embeddings =  [valid_x_tfidf_embeddings, valid_x_doc2vec_embeddings, valid_x_glove_embeddings]\n",
        "\n",
        "# for model in models:\n",
        "#     for i in range(len(train_embeddings)):\n",
        "#         print(\"embedding:\", i)\n",
        "#         predictions = train_model(model, train_embeddings[i], train_y, valid_embeddings[i])\n",
        "#         score_report = classification_report(predictions, valid_y)\n",
        "#         print(score_report)"
      ],
      "execution_count": null,
      "outputs": []
    },
    {
      "cell_type": "code",
      "metadata": {
        "id": "znG1_0SkTSG0"
      },
      "source": [
        "# stop = set(stopwords.words('english'))\n",
        "\n",
        "# pipeline = Pipeline([\n",
        "#     ('tfidf', TfidfVectorizer(stop_words=stop)),\n",
        "#     ('lr', LogisticRegression(max_iter=10000))\n",
        "# ])\n",
        "# parameters = {\n",
        "#     'tfidf__max_df': (0.25, 0.5, 0.75, 1),\n",
        "#     'tfidf__ngram_range': [(1, 1), (2, 2), (3, 3)],\n",
        "#     'lr__C': [100, 10, 1.0, 0.1, 0.01],\n",
        "#     'lr__solver': ['newton-cg', 'lbfgs', 'liblinear']\n",
        "# }\n",
        "\n",
        "# baseline_grid_search = GridSearchCV(pipeline, parameters, cv=5)\n",
        "# baseline_grid_search.fit(train_x_body, train_y)"
      ],
      "execution_count": null,
      "outputs": []
    },
    {
      "cell_type": "markdown",
      "metadata": {
        "id": "g8oDuOwxYitR"
      },
      "source": [
        "## Neural Networks"
      ]
    },
    {
      "cell_type": "markdown",
      "metadata": {
        "id": "Kx5ne2lZP5YT"
      },
      "source": [
        "### Shared API"
      ]
    },
    {
      "cell_type": "code",
      "metadata": {
        "id": "COQZt5H45nII",
        "colab": {
          "base_uri": "https://localhost:8080/"
        },
        "outputId": "d1c7d7f7-9f22-4a6e-e826-fb8f14264fab"
      },
      "source": [
        "%tensorflow_version 2.x\n",
        "import tensorflow as tf\n",
        "print(\"Tensorflow version \" + tf.__version__)\n",
        "\n",
        "try:\n",
        "  tpu = tf.distribute.cluster_resolver.TPUClusterResolver()  # TPU detection\n",
        "  print('Running on TPU ', tpu.cluster_spec().as_dict()['worker'])\n",
        "except ValueError:\n",
        "  tpu = None\n",
        "  print('Not connected to TPU')\n",
        "\n",
        "if tpu:\n",
        "  tf.config.experimental_connect_to_cluster(tpu)\n",
        "  tf.tpu.experimental.initialize_tpu_system(tpu)\n",
        "  tpu_strategy = tf.distribute.TPUStrategy(tpu)\n",
        "else:\n",
        "  tpu_strategy = tf.distribute.get_strategy()"
      ],
      "execution_count": null,
      "outputs": [
        {
          "output_type": "stream",
          "text": [
            "Tensorflow version 2.4.1\n",
            "Running on TPU  ['10.96.18.50:8470']\n"
          ],
          "name": "stdout"
        },
        {
          "output_type": "stream",
          "text": [
            "INFO:absl:Entering into master device scope: /job:worker/replica:0/task:0/device:CPU:0\n"
          ],
          "name": "stderr"
        },
        {
          "output_type": "stream",
          "text": [
            "INFO:tensorflow:Initializing the TPU system: grpc://10.96.18.50:8470\n"
          ],
          "name": "stdout"
        },
        {
          "output_type": "stream",
          "text": [
            "INFO:tensorflow:Initializing the TPU system: grpc://10.96.18.50:8470\n"
          ],
          "name": "stderr"
        },
        {
          "output_type": "stream",
          "text": [
            "INFO:tensorflow:Clearing out eager caches\n"
          ],
          "name": "stdout"
        },
        {
          "output_type": "stream",
          "text": [
            "INFO:tensorflow:Clearing out eager caches\n"
          ],
          "name": "stderr"
        },
        {
          "output_type": "stream",
          "text": [
            "INFO:tensorflow:Finished initializing TPU system.\n"
          ],
          "name": "stdout"
        },
        {
          "output_type": "stream",
          "text": [
            "INFO:tensorflow:Finished initializing TPU system.\n"
          ],
          "name": "stderr"
        },
        {
          "output_type": "stream",
          "text": [
            "INFO:tensorflow:Found TPU system:\n"
          ],
          "name": "stdout"
        },
        {
          "output_type": "stream",
          "text": [
            "INFO:tensorflow:Found TPU system:\n"
          ],
          "name": "stderr"
        },
        {
          "output_type": "stream",
          "text": [
            "INFO:tensorflow:*** Num TPU Cores: 8\n"
          ],
          "name": "stdout"
        },
        {
          "output_type": "stream",
          "text": [
            "INFO:tensorflow:*** Num TPU Cores: 8\n"
          ],
          "name": "stderr"
        },
        {
          "output_type": "stream",
          "text": [
            "INFO:tensorflow:*** Num TPU Workers: 1\n"
          ],
          "name": "stdout"
        },
        {
          "output_type": "stream",
          "text": [
            "INFO:tensorflow:*** Num TPU Workers: 1\n"
          ],
          "name": "stderr"
        },
        {
          "output_type": "stream",
          "text": [
            "INFO:tensorflow:*** Num TPU Cores Per Worker: 8\n"
          ],
          "name": "stdout"
        },
        {
          "output_type": "stream",
          "text": [
            "INFO:tensorflow:*** Num TPU Cores Per Worker: 8\n"
          ],
          "name": "stderr"
        },
        {
          "output_type": "stream",
          "text": [
            "INFO:tensorflow:*** Available Device: _DeviceAttributes(/job:localhost/replica:0/task:0/device:CPU:0, CPU, 0, 0)\n"
          ],
          "name": "stdout"
        },
        {
          "output_type": "stream",
          "text": [
            "INFO:tensorflow:*** Available Device: _DeviceAttributes(/job:localhost/replica:0/task:0/device:CPU:0, CPU, 0, 0)\n"
          ],
          "name": "stderr"
        },
        {
          "output_type": "stream",
          "text": [
            "INFO:tensorflow:*** Available Device: _DeviceAttributes(/job:worker/replica:0/task:0/device:CPU:0, CPU, 0, 0)\n"
          ],
          "name": "stdout"
        },
        {
          "output_type": "stream",
          "text": [
            "INFO:tensorflow:*** Available Device: _DeviceAttributes(/job:worker/replica:0/task:0/device:CPU:0, CPU, 0, 0)\n"
          ],
          "name": "stderr"
        },
        {
          "output_type": "stream",
          "text": [
            "INFO:tensorflow:*** Available Device: _DeviceAttributes(/job:worker/replica:0/task:0/device:TPU:0, TPU, 0, 0)\n"
          ],
          "name": "stdout"
        },
        {
          "output_type": "stream",
          "text": [
            "INFO:tensorflow:*** Available Device: _DeviceAttributes(/job:worker/replica:0/task:0/device:TPU:0, TPU, 0, 0)\n"
          ],
          "name": "stderr"
        },
        {
          "output_type": "stream",
          "text": [
            "INFO:tensorflow:*** Available Device: _DeviceAttributes(/job:worker/replica:0/task:0/device:TPU:1, TPU, 0, 0)\n"
          ],
          "name": "stdout"
        },
        {
          "output_type": "stream",
          "text": [
            "INFO:tensorflow:*** Available Device: _DeviceAttributes(/job:worker/replica:0/task:0/device:TPU:1, TPU, 0, 0)\n"
          ],
          "name": "stderr"
        },
        {
          "output_type": "stream",
          "text": [
            "INFO:tensorflow:*** Available Device: _DeviceAttributes(/job:worker/replica:0/task:0/device:TPU:2, TPU, 0, 0)\n"
          ],
          "name": "stdout"
        },
        {
          "output_type": "stream",
          "text": [
            "INFO:tensorflow:*** Available Device: _DeviceAttributes(/job:worker/replica:0/task:0/device:TPU:2, TPU, 0, 0)\n"
          ],
          "name": "stderr"
        },
        {
          "output_type": "stream",
          "text": [
            "INFO:tensorflow:*** Available Device: _DeviceAttributes(/job:worker/replica:0/task:0/device:TPU:3, TPU, 0, 0)\n"
          ],
          "name": "stdout"
        },
        {
          "output_type": "stream",
          "text": [
            "INFO:tensorflow:*** Available Device: _DeviceAttributes(/job:worker/replica:0/task:0/device:TPU:3, TPU, 0, 0)\n"
          ],
          "name": "stderr"
        },
        {
          "output_type": "stream",
          "text": [
            "INFO:tensorflow:*** Available Device: _DeviceAttributes(/job:worker/replica:0/task:0/device:TPU:4, TPU, 0, 0)\n"
          ],
          "name": "stdout"
        },
        {
          "output_type": "stream",
          "text": [
            "INFO:tensorflow:*** Available Device: _DeviceAttributes(/job:worker/replica:0/task:0/device:TPU:4, TPU, 0, 0)\n"
          ],
          "name": "stderr"
        },
        {
          "output_type": "stream",
          "text": [
            "INFO:tensorflow:*** Available Device: _DeviceAttributes(/job:worker/replica:0/task:0/device:TPU:5, TPU, 0, 0)\n"
          ],
          "name": "stdout"
        },
        {
          "output_type": "stream",
          "text": [
            "INFO:tensorflow:*** Available Device: _DeviceAttributes(/job:worker/replica:0/task:0/device:TPU:5, TPU, 0, 0)\n"
          ],
          "name": "stderr"
        },
        {
          "output_type": "stream",
          "text": [
            "INFO:tensorflow:*** Available Device: _DeviceAttributes(/job:worker/replica:0/task:0/device:TPU:6, TPU, 0, 0)\n"
          ],
          "name": "stdout"
        },
        {
          "output_type": "stream",
          "text": [
            "INFO:tensorflow:*** Available Device: _DeviceAttributes(/job:worker/replica:0/task:0/device:TPU:6, TPU, 0, 0)\n"
          ],
          "name": "stderr"
        },
        {
          "output_type": "stream",
          "text": [
            "INFO:tensorflow:*** Available Device: _DeviceAttributes(/job:worker/replica:0/task:0/device:TPU:7, TPU, 0, 0)\n"
          ],
          "name": "stdout"
        },
        {
          "output_type": "stream",
          "text": [
            "INFO:tensorflow:*** Available Device: _DeviceAttributes(/job:worker/replica:0/task:0/device:TPU:7, TPU, 0, 0)\n"
          ],
          "name": "stderr"
        },
        {
          "output_type": "stream",
          "text": [
            "INFO:tensorflow:*** Available Device: _DeviceAttributes(/job:worker/replica:0/task:0/device:TPU_SYSTEM:0, TPU_SYSTEM, 0, 0)\n"
          ],
          "name": "stdout"
        },
        {
          "output_type": "stream",
          "text": [
            "INFO:tensorflow:*** Available Device: _DeviceAttributes(/job:worker/replica:0/task:0/device:TPU_SYSTEM:0, TPU_SYSTEM, 0, 0)\n"
          ],
          "name": "stderr"
        },
        {
          "output_type": "stream",
          "text": [
            "INFO:tensorflow:*** Available Device: _DeviceAttributes(/job:worker/replica:0/task:0/device:XLA_CPU:0, XLA_CPU, 0, 0)\n"
          ],
          "name": "stdout"
        },
        {
          "output_type": "stream",
          "text": [
            "INFO:tensorflow:*** Available Device: _DeviceAttributes(/job:worker/replica:0/task:0/device:XLA_CPU:0, XLA_CPU, 0, 0)\n"
          ],
          "name": "stderr"
        }
      ]
    },
    {
      "cell_type": "code",
      "metadata": {
        "id": "0zvmGApy5nIG"
      },
      "source": [
        "label_encoder = LabelEncoder()\n",
        "label_encoder.fit(train_y.values)\n",
        "\n",
        "train_y_encoded = label_encoder.transform(train_y.values)\n",
        "valid_y_encoded = label_encoder.transform(valid_y.values)\n",
        "test_y_encoded = label_encoder.transform(test_y.values)\n",
        "\n",
        "train_y_one_hot_encoded = to_categorical(train_y_encoded)\n",
        "valid_y_one_hot_encoded = to_categorical(valid_y_encoded)\n",
        "test_y_one_hot_encoded = to_categorical(test_y_encoded)"
      ],
      "execution_count": null,
      "outputs": []
    },
    {
      "cell_type": "code",
      "metadata": {
        "id": "t_vkyYzfnpUU",
        "colab": {
          "base_uri": "https://localhost:8080/"
        },
        "outputId": "77e9d11a-40d7-40c0-ef7f-728521d19a45"
      },
      "source": [
        "list(label_encoder.classes_)"
      ],
      "execution_count": null,
      "outputs": [
        {
          "output_type": "execute_result",
          "data": {
            "text/plain": [
              "['HQ', 'LQ_CLOSE', 'LQ_EDIT']"
            ]
          },
          "metadata": {
            "tags": []
          },
          "execution_count": 48
        }
      ]
    },
    {
      "cell_type": "code",
      "metadata": {
        "id": "DgT-RP0a5nIG"
      },
      "source": [
        "def plot_graphs(history, metric):\n",
        "  plt.plot(history.history[metric])\n",
        "  plt.plot(history.history['val_'+ metric], '')\n",
        "  plt.xlabel(\"Epochs\")\n",
        "  plt.ylabel(metric)\n",
        "  plt.legend([metric, 'val_'+ metric])"
      ],
      "execution_count": null,
      "outputs": []
    },
    {
      "cell_type": "markdown",
      "metadata": {
        "id": "DqY-zNRv5nIG"
      },
      "source": [
        "### LSTM"
      ]
    },
    {
      "cell_type": "code",
      "metadata": {
        "id": "iRJ9XR485nIG"
      },
      "source": [
        "MAX_WORDS_PER_SEQUENCE = 10000\n",
        "MAX_EMBEDDING_LENGTH = 500\n",
        "\n",
        "title_tokzr = Tokenizer(num_words=MAX_WORDS_PER_SEQUENCE)\n",
        "title_tokzr.fit_on_texts(train_x_title)\n",
        "\n",
        "title_sequences = title_tokzr.texts_to_sequences(train_x_title)\n",
        "title_sequences = sequence.pad_sequences(title_sequences, maxlen=MAX_EMBEDDING_LENGTH)\n",
        "\n",
        "valid_title_sequences = title_tokzr.texts_to_sequences(valid_x_title)\n",
        "valid_title_sequences = sequence.pad_sequences(valid_title_sequences, maxlen=MAX_EMBEDDING_LENGTH)\n",
        "\n",
        "test_title_sequences = title_tokzr.texts_to_sequences(test_x_title)\n",
        "test_title_sequences = sequence.pad_sequences(test_title_sequences, maxlen=MAX_EMBEDDING_LENGTH)\n",
        "\n",
        "body_tokzr = Tokenizer(num_words=MAX_WORDS_PER_SEQUENCE)\n",
        "body_tokzr.fit_on_texts(train_x_body)\n",
        "\n",
        "body_sequences = body_tokzr.texts_to_sequences(train_x_body)\n",
        "body_sequences = sequence.pad_sequences(body_sequences, maxlen=MAX_EMBEDDING_LENGTH)\n",
        "\n",
        "valid_body_sequences = body_tokzr.texts_to_sequences(valid_x_body)\n",
        "valid_body_sequences = sequence.pad_sequences(valid_body_sequences, maxlen=MAX_EMBEDDING_LENGTH)\n",
        "\n",
        "test_body_sequences = body_tokzr.texts_to_sequences(test_x_body)\n",
        "test_body_sequences = sequence.pad_sequences(test_body_sequences, maxlen=MAX_EMBEDDING_LENGTH)\n",
        "\n",
        "tags_tokzr = Tokenizer(num_words=MAX_WORDS_PER_SEQUENCE)\n",
        "tags_tokzr.fit_on_texts(train_x_tags)\n",
        "\n",
        "tag_sequences = tags_tokzr.texts_to_sequences(train_x_tags)\n",
        "tag_sequences = sequence.pad_sequences(tag_sequences, maxlen=MAX_EMBEDDING_LENGTH)\n",
        "\n",
        "valid_tag_sequences = tags_tokzr.texts_to_sequences(valid_x_tags)\n",
        "valid_tag_sequences = sequence.pad_sequences(valid_tag_sequences, maxlen=MAX_EMBEDDING_LENGTH)\n",
        "\n",
        "test_tag_sequences = tags_tokzr.texts_to_sequences(test_x_tags)\n",
        "test_tag_sequences = sequence.pad_sequences(test_tag_sequences, maxlen=MAX_EMBEDDING_LENGTH)"
      ],
      "execution_count": null,
      "outputs": []
    },
    {
      "cell_type": "code",
      "metadata": {
        "id": "AU-WWdK15nIG"
      },
      "source": [
        "combined_sequences = np.concatenate((title_sequences, body_sequences, tag_sequences), axis=1)\n",
        "valid_combined_sequences = np.concatenate((valid_title_sequences, valid_body_sequences, valid_tag_sequences), axis=1)\n",
        "test_combined_sequences = np.concatenate((test_title_sequences, test_body_sequences, test_tag_sequences), axis=1)"
      ],
      "execution_count": null,
      "outputs": []
    },
    {
      "cell_type": "code",
      "metadata": {
        "id": "twHGeiCCP0y5"
      },
      "source": [
        "early_stopping_cb = EarlyStopping(monitor='val_loss', patience=8)\n",
        "reduce_lr_cb = ReduceLROnPlateau(monitor='val_loss', patience=6)"
      ],
      "execution_count": null,
      "outputs": []
    },
    {
      "cell_type": "code",
      "metadata": {
        "id": "OtwANh0K5nIH",
        "colab": {
          "base_uri": "https://localhost:8080/"
        },
        "outputId": "9d5c4e12-0b9a-48db-a5f4-929c1e32ba88"
      },
      "source": [
        "def RNN():\n",
        "    inputs = Input(shape=(None,), dtype=\"int32\")\n",
        "    x = Embedding(MAX_WORDS_PER_SEQUENCE, 128)(inputs)\n",
        "    x = Bidirectional(LSTM(64, return_sequences=True))(x)\n",
        "    x = Bidirectional(LSTM(64))(x)\n",
        "    outputs = Dense(3, activation=\"softmax\")(x)\n",
        "    return Model(inputs=inputs, outputs=outputs)\n",
        "\n",
        "def create_rnn_model():\n",
        "  model = RNN()\n",
        "  model.compile(\n",
        "      loss='categorical_crossentropy',\n",
        "      optimizer=SGD(),\n",
        "      metrics=['accuracy']\n",
        "  )\n",
        "  return model\n",
        "\n",
        "with tpu_strategy.scope():\n",
        "  rnn_model = create_rnn_model()\n",
        "rnn_model.summary()"
      ],
      "execution_count": 79,
      "outputs": [
        {
          "output_type": "stream",
          "text": [
            "Model: \"model_5\"\n",
            "_________________________________________________________________\n",
            "Layer (type)                 Output Shape              Param #   \n",
            "=================================================================\n",
            "input_6 (InputLayer)         [(None, None)]            0         \n",
            "_________________________________________________________________\n",
            "embedding_4 (Embedding)      (None, None, 128)         1280000   \n",
            "_________________________________________________________________\n",
            "bidirectional_2 (Bidirection (None, None, 128)         98816     \n",
            "_________________________________________________________________\n",
            "bidirectional_3 (Bidirection (None, 128)               98816     \n",
            "_________________________________________________________________\n",
            "dense_5 (Dense)              (None, 3)                 387       \n",
            "=================================================================\n",
            "Total params: 1,478,019\n",
            "Trainable params: 1,478,019\n",
            "Non-trainable params: 0\n",
            "_________________________________________________________________\n"
          ],
          "name": "stdout"
        }
      ]
    },
    {
      "cell_type": "code",
      "metadata": {
        "id": "xHb2VKk_5nIH",
        "colab": {
          "base_uri": "https://localhost:8080/"
        },
        "outputId": "65b23285-5c22-4d96-d02e-e59eeff3d246"
      },
      "source": [
        "rnn_history = rnn_model.fit(\n",
        "    combined_sequences,\n",
        "    train_y_one_hot_encoded, \n",
        "    epochs=50, \n",
        "    validation_data=(valid_combined_sequences, valid_y_one_hot_encoded), \n",
        "    callbacks = [early_stopping_cb, reduce_lr_cb]\n",
        ")"
      ],
      "execution_count": 80,
      "outputs": [
        {
          "output_type": "stream",
          "text": [
            "Epoch 1/50\n",
            "938/938 [==============================] - 143s 142ms/step - loss: 1.0984 - accuracy: 0.3430 - val_loss: 1.0958 - val_accuracy: 0.3880\n",
            "Epoch 2/50\n",
            "938/938 [==============================] - 127s 136ms/step - loss: 1.0953 - accuracy: 0.3737 - val_loss: 1.0912 - val_accuracy: 0.4086\n",
            "Epoch 3/50\n",
            "938/938 [==============================] - 127s 136ms/step - loss: 1.0906 - accuracy: 0.3974 - val_loss: 1.0827 - val_accuracy: 0.3947\n",
            "Epoch 4/50\n",
            "938/938 [==============================] - 128s 136ms/step - loss: 1.0812 - accuracy: 0.4046 - val_loss: 1.0689 - val_accuracy: 0.4208\n",
            "Epoch 5/50\n",
            "938/938 [==============================] - 128s 136ms/step - loss: 1.0691 - accuracy: 0.4169 - val_loss: 1.0581 - val_accuracy: 0.4181\n",
            "Epoch 6/50\n",
            "938/938 [==============================] - 127s 136ms/step - loss: 1.0577 - accuracy: 0.4248 - val_loss: 1.0503 - val_accuracy: 0.4255\n",
            "Epoch 7/50\n",
            "938/938 [==============================] - 127s 136ms/step - loss: 1.0512 - accuracy: 0.4299 - val_loss: 1.0433 - val_accuracy: 0.4526\n",
            "Epoch 8/50\n",
            "938/938 [==============================] - 127s 136ms/step - loss: 1.0416 - accuracy: 0.4437 - val_loss: 1.0187 - val_accuracy: 0.4619\n",
            "Epoch 9/50\n",
            "938/938 [==============================] - 127s 136ms/step - loss: 1.0047 - accuracy: 0.4743 - val_loss: 0.9484 - val_accuracy: 0.5235\n",
            "Epoch 10/50\n",
            "938/938 [==============================] - 128s 136ms/step - loss: 0.9401 - accuracy: 0.5176 - val_loss: 0.9049 - val_accuracy: 0.5347\n",
            "Epoch 11/50\n",
            "938/938 [==============================] - 128s 136ms/step - loss: 0.9053 - accuracy: 0.5305 - val_loss: 0.9130 - val_accuracy: 0.5309\n",
            "Epoch 12/50\n",
            "938/938 [==============================] - 127s 136ms/step - loss: 0.8803 - accuracy: 0.5492 - val_loss: 0.8672 - val_accuracy: 0.5534\n",
            "Epoch 13/50\n",
            "938/938 [==============================] - 127s 136ms/step - loss: 0.8668 - accuracy: 0.5552 - val_loss: 0.8869 - val_accuracy: 0.5409\n",
            "Epoch 14/50\n",
            "938/938 [==============================] - 127s 136ms/step - loss: 0.8455 - accuracy: 0.5649 - val_loss: 0.8525 - val_accuracy: 0.5677\n",
            "Epoch 15/50\n",
            "938/938 [==============================] - 128s 136ms/step - loss: 0.8428 - accuracy: 0.5699 - val_loss: 0.8510 - val_accuracy: 0.5590\n",
            "Epoch 16/50\n",
            "938/938 [==============================] - 128s 136ms/step - loss: 0.8299 - accuracy: 0.5804 - val_loss: 0.8392 - val_accuracy: 0.5724\n",
            "Epoch 17/50\n",
            "938/938 [==============================] - 127s 136ms/step - loss: 0.8246 - accuracy: 0.5815 - val_loss: 0.8478 - val_accuracy: 0.5619\n",
            "Epoch 18/50\n",
            "938/938 [==============================] - 127s 136ms/step - loss: 0.8250 - accuracy: 0.5824 - val_loss: 0.8424 - val_accuracy: 0.5683\n",
            "Epoch 19/50\n",
            "938/938 [==============================] - 127s 136ms/step - loss: 0.8219 - accuracy: 0.5855 - val_loss: 0.8362 - val_accuracy: 0.5768\n",
            "Epoch 20/50\n",
            "938/938 [==============================] - 128s 136ms/step - loss: 0.8082 - accuracy: 0.5921 - val_loss: 0.8476 - val_accuracy: 0.5762\n",
            "Epoch 21/50\n",
            "938/938 [==============================] - 127s 136ms/step - loss: 0.8232 - accuracy: 0.5877 - val_loss: 0.8330 - val_accuracy: 0.5788\n",
            "Epoch 22/50\n",
            "938/938 [==============================] - 128s 136ms/step - loss: 0.8010 - accuracy: 0.6012 - val_loss: 0.8359 - val_accuracy: 0.5815\n",
            "Epoch 23/50\n",
            "938/938 [==============================] - 127s 136ms/step - loss: 0.8081 - accuracy: 0.5915 - val_loss: 0.8358 - val_accuracy: 0.5757\n",
            "Epoch 24/50\n",
            "938/938 [==============================] - 128s 136ms/step - loss: 0.8278 - accuracy: 0.5872 - val_loss: 0.8374 - val_accuracy: 0.5833\n",
            "Epoch 25/50\n",
            "938/938 [==============================] - 128s 136ms/step - loss: 0.8077 - accuracy: 0.5952 - val_loss: 1.0712 - val_accuracy: 0.4153\n",
            "Epoch 26/50\n",
            "938/938 [==============================] - 128s 136ms/step - loss: 1.0392 - accuracy: 0.4517 - val_loss: 0.9781 - val_accuracy: 0.5153\n",
            "Epoch 27/50\n",
            "938/938 [==============================] - 128s 136ms/step - loss: 0.9489 - accuracy: 0.5262 - val_loss: 0.9117 - val_accuracy: 0.5548\n",
            "Epoch 28/50\n",
            "938/938 [==============================] - 128s 136ms/step - loss: 0.8755 - accuracy: 0.5772 - val_loss: 0.8985 - val_accuracy: 0.5602\n",
            "Epoch 29/50\n",
            "938/938 [==============================] - 128s 136ms/step - loss: 0.8697 - accuracy: 0.5800 - val_loss: 0.8905 - val_accuracy: 0.5641\n"
          ],
          "name": "stdout"
        }
      ]
    },
    {
      "cell_type": "code",
      "metadata": {
        "id": "YML5xoNC5nIH",
        "colab": {
          "base_uri": "https://localhost:8080/"
        },
        "outputId": "65c7aedf-d935-4b54-fbfa-71b4d340b1ea"
      },
      "source": [
        "rnn_test_predictions = rnn_model.predict(test_combined_sequences)\n",
        "print(classification_report(rnn_test_predictions.argmax(axis=1), test_y_encoded))"
      ],
      "execution_count": 81,
      "outputs": [
        {
          "output_type": "stream",
          "text": [
            "              precision    recall  f1-score   support\n",
            "\n",
            "           0       0.82      0.65      0.73      6235\n",
            "           1       0.54      0.51      0.53      5321\n",
            "           2       0.32      0.47      0.38      3444\n",
            "\n",
            "    accuracy                           0.56     15000\n",
            "   macro avg       0.56      0.54      0.54     15000\n",
            "weighted avg       0.61      0.56      0.58     15000\n",
            "\n"
          ],
          "name": "stdout"
        }
      ]
    },
    {
      "cell_type": "markdown",
      "metadata": {
        "id": "bAl9MJNw5nII"
      },
      "source": [
        "### CNN"
      ]
    },
    {
      "cell_type": "code",
      "metadata": {
        "id": "CftYaKYP5nII",
        "colab": {
          "base_uri": "https://localhost:8080/"
        },
        "outputId": "58349e57-3013-4838-84d8-809c4e003fc8"
      },
      "source": [
        "def CNN():\n",
        "  inputs = tf.keras.Input(shape=(None,), dtype=\"int32\")\n",
        "  x = Embedding(MAX_WORDS_PER_SEQUENCE, 128)(inputs)\n",
        "  x = Conv1D(64, kernel_size = 3)(x)\n",
        "  avg_pool = GlobalAveragePooling1D()(x)\n",
        "  max_pool = GlobalMaxPooling1D()(x)\n",
        "  x = concatenate([avg_pool, max_pool])\n",
        "  x = Dropout(0.2)(x)\n",
        "  outputs = Dense(3, activation=\"softmax\")(x)\n",
        "  return Model(inputs=inputs, outputs=outputs)\n",
        "\n",
        "def create_cnn_model():\n",
        "  model = CNN()\n",
        "  model.compile(\n",
        "      loss='categorical_crossentropy', \n",
        "      optimizer=SGD(), \n",
        "      metrics=['accuracy']\n",
        "  )\n",
        "  return model\n",
        "\n",
        "with tpu_strategy.scope():\n",
        "  cnn_model = create_cnn_model()\n",
        "cnn_model.summary()"
      ],
      "execution_count": 76,
      "outputs": [
        {
          "output_type": "stream",
          "text": [
            "Model: \"model_4\"\n",
            "__________________________________________________________________________________________________\n",
            "Layer (type)                    Output Shape         Param #     Connected to                     \n",
            "==================================================================================================\n",
            "input_5 (InputLayer)            [(None, None)]       0                                            \n",
            "__________________________________________________________________________________________________\n",
            "embedding_3 (Embedding)         (None, None, 128)    1280000     input_5[0][0]                    \n",
            "__________________________________________________________________________________________________\n",
            "conv1d_2 (Conv1D)               (None, None, 64)     24640       embedding_3[0][0]                \n",
            "__________________________________________________________________________________________________\n",
            "global_average_pooling1d_2 (Glo (None, 64)           0           conv1d_2[0][0]                   \n",
            "__________________________________________________________________________________________________\n",
            "global_max_pooling1d_2 (GlobalM (None, 64)           0           conv1d_2[0][0]                   \n",
            "__________________________________________________________________________________________________\n",
            "concatenate_2 (Concatenate)     (None, 128)          0           global_average_pooling1d_2[0][0] \n",
            "                                                                 global_max_pooling1d_2[0][0]     \n",
            "__________________________________________________________________________________________________\n",
            "dropout_39 (Dropout)            (None, 128)          0           concatenate_2[0][0]              \n",
            "__________________________________________________________________________________________________\n",
            "dense_4 (Dense)                 (None, 3)            387         dropout_39[0][0]                 \n",
            "==================================================================================================\n",
            "Total params: 1,305,027\n",
            "Trainable params: 1,305,027\n",
            "Non-trainable params: 0\n",
            "__________________________________________________________________________________________________\n"
          ],
          "name": "stdout"
        }
      ]
    },
    {
      "cell_type": "code",
      "metadata": {
        "id": "Nth2jiKx5nII",
        "colab": {
          "base_uri": "https://localhost:8080/"
        },
        "outputId": "11230bb6-ce2a-4d8e-d91d-41ac97d91323"
      },
      "source": [
        "cnn_history = cnn_model.fit(\n",
        "    combined_sequences,\n",
        "    train_y_one_hot_encoded,\n",
        "    batch_size=25,\n",
        "    epochs=50, \n",
        "    validation_data=(valid_combined_sequences, valid_y_one_hot_encoded), \n",
        "    callbacks = [early_stopping_cb, reduce_lr_cb]\n",
        ")"
      ],
      "execution_count": 78,
      "outputs": [
        {
          "output_type": "stream",
          "text": [
            "Epoch 1/50\n",
            "1200/1200 [==============================] - 27s 22ms/step - loss: 0.6702 - accuracy: 0.7058 - val_loss: 0.6936 - val_accuracy: 0.6907\n",
            "Epoch 2/50\n",
            "1200/1200 [==============================] - 25s 21ms/step - loss: 0.6619 - accuracy: 0.7083 - val_loss: 0.6880 - val_accuracy: 0.6917\n",
            "Epoch 3/50\n",
            "1200/1200 [==============================] - 25s 21ms/step - loss: 0.6570 - accuracy: 0.7108 - val_loss: 0.6851 - val_accuracy: 0.6923\n",
            "Epoch 4/50\n",
            "1200/1200 [==============================] - 25s 21ms/step - loss: 0.6468 - accuracy: 0.7154 - val_loss: 0.6878 - val_accuracy: 0.6889\n",
            "Epoch 5/50\n",
            "1200/1200 [==============================] - 26s 22ms/step - loss: 0.6390 - accuracy: 0.7214 - val_loss: 0.6775 - val_accuracy: 0.6970\n",
            "Epoch 6/50\n",
            "1200/1200 [==============================] - 26s 21ms/step - loss: 0.6290 - accuracy: 0.7262 - val_loss: 0.6724 - val_accuracy: 0.6971\n",
            "Epoch 7/50\n",
            "1200/1200 [==============================] - 25s 21ms/step - loss: 0.6209 - accuracy: 0.7308 - val_loss: 0.6730 - val_accuracy: 0.7029\n",
            "Epoch 8/50\n",
            "1200/1200 [==============================] - 26s 22ms/step - loss: 0.6143 - accuracy: 0.7351 - val_loss: 0.6645 - val_accuracy: 0.7037\n",
            "Epoch 9/50\n",
            "1200/1200 [==============================] - 26s 22ms/step - loss: 0.6086 - accuracy: 0.7365 - val_loss: 0.6599 - val_accuracy: 0.7058\n",
            "Epoch 10/50\n",
            "1200/1200 [==============================] - 25s 21ms/step - loss: 0.6001 - accuracy: 0.7420 - val_loss: 0.6612 - val_accuracy: 0.7008\n",
            "Epoch 11/50\n",
            "1200/1200 [==============================] - 25s 21ms/step - loss: 0.5935 - accuracy: 0.7446 - val_loss: 0.6572 - val_accuracy: 0.7025\n",
            "Epoch 12/50\n",
            "1200/1200 [==============================] - 26s 21ms/step - loss: 0.5837 - accuracy: 0.7503 - val_loss: 0.6507 - val_accuracy: 0.7083\n",
            "Epoch 13/50\n",
            "1200/1200 [==============================] - 25s 21ms/step - loss: 0.5767 - accuracy: 0.7536 - val_loss: 0.6551 - val_accuracy: 0.7101\n",
            "Epoch 14/50\n",
            "1200/1200 [==============================] - 26s 21ms/step - loss: 0.5689 - accuracy: 0.7567 - val_loss: 0.6473 - val_accuracy: 0.7097\n",
            "Epoch 15/50\n",
            "1200/1200 [==============================] - 26s 21ms/step - loss: 0.5622 - accuracy: 0.7591 - val_loss: 0.6448 - val_accuracy: 0.7106\n",
            "Epoch 16/50\n",
            "1200/1200 [==============================] - 25s 21ms/step - loss: 0.5548 - accuracy: 0.7660 - val_loss: 0.6420 - val_accuracy: 0.7127\n",
            "Epoch 17/50\n",
            "1200/1200 [==============================] - 26s 22ms/step - loss: 0.5455 - accuracy: 0.7726 - val_loss: 0.6378 - val_accuracy: 0.7171\n",
            "Epoch 18/50\n",
            "1200/1200 [==============================] - 26s 21ms/step - loss: 0.5401 - accuracy: 0.7714 - val_loss: 0.6379 - val_accuracy: 0.7163\n",
            "Epoch 19/50\n",
            "1200/1200 [==============================] - 26s 21ms/step - loss: 0.5331 - accuracy: 0.7760 - val_loss: 0.6386 - val_accuracy: 0.7129\n",
            "Epoch 20/50\n",
            "1200/1200 [==============================] - 26s 22ms/step - loss: 0.5286 - accuracy: 0.7795 - val_loss: 0.6370 - val_accuracy: 0.7134\n",
            "Epoch 21/50\n",
            "1200/1200 [==============================] - 26s 22ms/step - loss: 0.5209 - accuracy: 0.7833 - val_loss: 0.6345 - val_accuracy: 0.7188\n",
            "Epoch 22/50\n",
            "1200/1200 [==============================] - 26s 22ms/step - loss: 0.5121 - accuracy: 0.7874 - val_loss: 0.6315 - val_accuracy: 0.7179\n",
            "Epoch 23/50\n",
            "1200/1200 [==============================] - 25s 21ms/step - loss: 0.5065 - accuracy: 0.7899 - val_loss: 0.6319 - val_accuracy: 0.7178\n",
            "Epoch 24/50\n",
            "1200/1200 [==============================] - 26s 21ms/step - loss: 0.4989 - accuracy: 0.7930 - val_loss: 0.6317 - val_accuracy: 0.7174\n",
            "Epoch 25/50\n",
            "1200/1200 [==============================] - 26s 22ms/step - loss: 0.4925 - accuracy: 0.7980 - val_loss: 0.6347 - val_accuracy: 0.7169\n",
            "Epoch 26/50\n",
            "1200/1200 [==============================] - 26s 22ms/step - loss: 0.4855 - accuracy: 0.8023 - val_loss: 0.6289 - val_accuracy: 0.7209\n",
            "Epoch 27/50\n",
            "1200/1200 [==============================] - 26s 22ms/step - loss: 0.4776 - accuracy: 0.8057 - val_loss: 0.6280 - val_accuracy: 0.7218\n",
            "Epoch 28/50\n",
            "1200/1200 [==============================] - 26s 22ms/step - loss: 0.4731 - accuracy: 0.8086 - val_loss: 0.6286 - val_accuracy: 0.7174\n",
            "Epoch 29/50\n",
            "1200/1200 [==============================] - 26s 22ms/step - loss: 0.4667 - accuracy: 0.8091 - val_loss: 0.6294 - val_accuracy: 0.7208\n",
            "Epoch 30/50\n",
            "1200/1200 [==============================] - 26s 22ms/step - loss: 0.4578 - accuracy: 0.8161 - val_loss: 0.6291 - val_accuracy: 0.7201\n",
            "Epoch 31/50\n",
            "1200/1200 [==============================] - 26s 21ms/step - loss: 0.4514 - accuracy: 0.8189 - val_loss: 0.6316 - val_accuracy: 0.7213\n",
            "Epoch 32/50\n",
            "1200/1200 [==============================] - 25s 21ms/step - loss: 0.4447 - accuracy: 0.8241 - val_loss: 0.6309 - val_accuracy: 0.7223\n",
            "Epoch 33/50\n",
            "1200/1200 [==============================] - 26s 22ms/step - loss: 0.4384 - accuracy: 0.8265 - val_loss: 0.6300 - val_accuracy: 0.7215\n",
            "Epoch 34/50\n",
            "1200/1200 [==============================] - 26s 22ms/step - loss: 0.4255 - accuracy: 0.8361 - val_loss: 0.6284 - val_accuracy: 0.7208\n",
            "Epoch 35/50\n",
            "1200/1200 [==============================] - 26s 21ms/step - loss: 0.4226 - accuracy: 0.8376 - val_loss: 0.6280 - val_accuracy: 0.7217\n",
            "Epoch 36/50\n",
            "1200/1200 [==============================] - 26s 21ms/step - loss: 0.4240 - accuracy: 0.8354 - val_loss: 0.6281 - val_accuracy: 0.7229\n",
            "Epoch 37/50\n",
            "1200/1200 [==============================] - 26s 22ms/step - loss: 0.4210 - accuracy: 0.8360 - val_loss: 0.6283 - val_accuracy: 0.7223\n",
            "Epoch 38/50\n",
            "1200/1200 [==============================] - 26s 22ms/step - loss: 0.4195 - accuracy: 0.8375 - val_loss: 0.6282 - val_accuracy: 0.7212\n",
            "Epoch 39/50\n",
            "1200/1200 [==============================] - 26s 22ms/step - loss: 0.4193 - accuracy: 0.8403 - val_loss: 0.6294 - val_accuracy: 0.7213\n",
            "Epoch 40/50\n",
            "1200/1200 [==============================] - 26s 21ms/step - loss: 0.4167 - accuracy: 0.8388 - val_loss: 0.6286 - val_accuracy: 0.7217\n",
            "Epoch 41/50\n",
            "1200/1200 [==============================] - 25s 21ms/step - loss: 0.4178 - accuracy: 0.8384 - val_loss: 0.6284 - val_accuracy: 0.7219\n",
            "Epoch 42/50\n",
            "1200/1200 [==============================] - 25s 21ms/step - loss: 0.4202 - accuracy: 0.8376 - val_loss: 0.6283 - val_accuracy: 0.7217\n",
            "Epoch 43/50\n",
            "1200/1200 [==============================] - 25s 21ms/step - loss: 0.4187 - accuracy: 0.8374 - val_loss: 0.6283 - val_accuracy: 0.7216\n"
          ],
          "name": "stdout"
        }
      ]
    },
    {
      "cell_type": "code",
      "metadata": {
        "id": "lTwlPqLTl1-r"
      },
      "source": [
        "cnn_test_predictions = cnn_model.predict(test_combined_sequences)\n",
        "print(classification_report(cnn_test_predictions.argmax(axis=1), test_y_encoded))"
      ],
      "execution_count": null,
      "outputs": []
    },
    {
      "cell_type": "markdown",
      "metadata": {
        "id": "7HoRyl-t5nII"
      },
      "source": [
        "### Roberta"
      ]
    },
    {
      "cell_type": "code",
      "metadata": {
        "id": "snLJMN-KY7k8"
      },
      "source": [
        "def encode_inputs(inputs):\n",
        "  tokenizer = RobertaTokenizer.from_pretrained('roberta-base')\n",
        "  encodings = tokenizer.batch_encode_plus(\n",
        "      inputs,\n",
        "      return_token_type_ids=False,\n",
        "      padding='max_length',\n",
        "      max_length=300,\n",
        "      truncation=True\n",
        "  )\n",
        "  \n",
        "  return np.array(encodings['input_ids'])"
      ],
      "execution_count": null,
      "outputs": []
    },
    {
      "cell_type": "code",
      "metadata": {
        "id": "KW9FzrmV5nIJ",
        "colab": {
          "base_uri": "https://localhost:8080/",
          "height": 164,
          "referenced_widgets": [
            "50ab370ebe164eb79f4cd80122446a24",
            "9ecf5c32bcfa4c5591367f40ef211a4f",
            "2ab9bfe2e9114874aeae27af9269f823",
            "e8857fcf19dc47dd8703d3baf5fd482c",
            "ae870638f3ff449aadf4f0fb6d296bf3",
            "fc571e5dea234a2199c126c184b042e9",
            "4c651e2c4b5d4f4489b048f708b7701f",
            "d8cc98599a1e4635b1956b9328037679",
            "1fdcbb06d3374ec1a9a8e4416cb112d7",
            "a3c7241cf3b3471385c1c5d943511f8d",
            "57f9f16457c84ed595c49deda116bbd5",
            "8c9d33d2014241a4a1dadd247a4e9393",
            "8364500c29ab401f95d171f8b88831a7",
            "14ef390e586b4d629cd0733e9224deca",
            "b388b491c357431eba55ddc1fb196c30",
            "e7f0b0d010214ed89cc8690d5210de3f",
            "92e55ddedd3d4f84ae229a1311b40eee",
            "4b10c9a6a6c446e087dbde0dccc68c9d",
            "b986e7c69c34454da57b85a42358056c",
            "735df447f82c4adf9eb0a5123d943bdb",
            "71213d9eeb694e42a4ccf25b8c1e0cb1",
            "150f2855c5de49fca14a31a58a9c1043",
            "23becbf7d0b04475ae99b69f7ff6ef15",
            "acad4355ac7a478099635f10888fa39c"
          ]
        },
        "outputId": "18e03e5c-13ff-4a8a-81db-64de7afc33b6"
      },
      "source": [
        "train_x_bert = train_x_title + \" \" + train_x_body + \" \" + train_x_tags\n",
        "train_x_bert = encode_inputs(train_x_bert.values.tolist())\n",
        "\n",
        "valid_x_bert = valid_x_title + \" \" + valid_x_body + \" \" + valid_x_tags\n",
        "valid_x_bert = encode_inputs(valid_x_bert.values.tolist())\n",
        "\n",
        "test_x_bert = test_x_title + \" \" + test_x_body + \" \" + test_x_tags\n",
        "test_x_bert = encode_inputs(test_x_bert.values.tolist())\n",
        "\n",
        "BATCH_SIZE = 16 * tpu_strategy.num_replicas_in_sync\n",
        "AUTOTUNE = tf.data.experimental.AUTOTUNE\n",
        "\n",
        "train_dataset = (\n",
        "  tf.data.Dataset\n",
        "    .from_tensor_slices((train_x_bert, train_y_encoded))\n",
        "    .repeat()\n",
        "    .shuffle(2021)\n",
        "    .batch(BATCH_SIZE)\n",
        "    .prefetch(AUTOTUNE)\n",
        ")\n",
        "\n",
        "valid_dataset = (\n",
        "  tf.data.Dataset\n",
        "    .from_tensor_slices((valid_x_bert, valid_y_encoded))\n",
        "    .batch(BATCH_SIZE)\n",
        "    .cache()\n",
        "    .prefetch(AUTOTUNE)\n",
        ")\n",
        "\n",
        "test_dataset = (\n",
        "  tf.data.Dataset\n",
        "    .from_tensor_slices((test_x_bert, test_y_encoded))\n",
        "    .batch(BATCH_SIZE)\n",
        "    .cache()\n",
        "    .prefetch(AUTOTUNE)\n",
        ")"
      ],
      "execution_count": null,
      "outputs": [
        {
          "output_type": "display_data",
          "data": {
            "application/vnd.jupyter.widget-view+json": {
              "model_id": "50ab370ebe164eb79f4cd80122446a24",
              "version_minor": 0,
              "version_major": 2
            },
            "text/plain": [
              "HBox(children=(FloatProgress(value=0.0, description='Downloading', max=898823.0, style=ProgressStyle(descripti…"
            ]
          },
          "metadata": {
            "tags": []
          }
        },
        {
          "output_type": "stream",
          "text": [
            "\n"
          ],
          "name": "stdout"
        },
        {
          "output_type": "display_data",
          "data": {
            "application/vnd.jupyter.widget-view+json": {
              "model_id": "1fdcbb06d3374ec1a9a8e4416cb112d7",
              "version_minor": 0,
              "version_major": 2
            },
            "text/plain": [
              "HBox(children=(FloatProgress(value=0.0, description='Downloading', max=456318.0, style=ProgressStyle(descripti…"
            ]
          },
          "metadata": {
            "tags": []
          }
        },
        {
          "output_type": "stream",
          "text": [
            "\n"
          ],
          "name": "stdout"
        },
        {
          "output_type": "display_data",
          "data": {
            "application/vnd.jupyter.widget-view+json": {
              "model_id": "92e55ddedd3d4f84ae229a1311b40eee",
              "version_minor": 0,
              "version_major": 2
            },
            "text/plain": [
              "HBox(children=(FloatProgress(value=0.0, description='Downloading', max=1355863.0, style=ProgressStyle(descript…"
            ]
          },
          "metadata": {
            "tags": []
          }
        },
        {
          "output_type": "stream",
          "text": [
            "\n"
          ],
          "name": "stdout"
        }
      ]
    },
    {
      "cell_type": "code",
      "metadata": {
        "id": "C0-evd_c24bL"
      },
      "source": [
        "def create_roberta_model():\n",
        "    with tpu_strategy.scope():\n",
        "        inputs = Input(shape=(300,), dtype=tf.int32)\n",
        "        roberta_layer = TFRobertaModel.from_pretrained('roberta-base')\n",
        "        x = roberta_layer(inputs)[0][:, 0, :]\n",
        "        outputs = Dense(3, activation='softmax')(x)\n",
        "        model = Model(inputs=[inputs], outputs=[outputs])\n",
        "        model.compile(optimizer=Adam(learning_rate=0.0001), loss='sparse_categorical_crossentropy', metrics=['accuracy'])\n",
        "    return model"
      ],
      "execution_count": null,
      "outputs": []
    },
    {
      "cell_type": "code",
      "metadata": {
        "id": "6VDtGklbgz8-",
        "colab": {
          "base_uri": "https://localhost:8080/",
          "height": 1000,
          "referenced_widgets": [
            "6c2d5d59f1974c189b9e3959f8728364",
            "0695a928f8f74cb2ba724b054f106c86",
            "ccc60e8e72004af0aa6ec4add65d5ead",
            "9c02183474664ed2af62ac9cb83b592d",
            "ae3a19b7199a48119f7135cb18c8ace6",
            "1af0159c4a3a403e8f5144faf9f57575",
            "8d9e795598214612b96d86521986f494",
            "2d9e4858ba354265b156e81c1e01b30c",
            "c29b9fdece9e42db94a0640d0ed0f224",
            "c7ab3f91e27f4a8e9f7c7900330d3972",
            "043b4c4247ba41b2a6a939b163e38b38",
            "f38202b738754c6698e4e7ed4e820f19",
            "12be2702ab954f739ad3fed1da82bc0e",
            "a0fae7f179cc42458d85c906d00e93ef",
            "90b0e418aaec4abaa49648865ff98087",
            "87fd9bb486c646d3b37f40d8eb137948"
          ]
        },
        "outputId": "92aad821-8be1-44f5-f8d8-6dbd0dcc95a5"
      },
      "source": [
        "roberta_model = create_roberta_model()\n",
        "early_stop = EarlyStopping(monitor='val_loss', patience=5)\n",
        "reduce_lr = ReduceLROnPlateau(monitor='val_loss', patience=3, min_lr=0.0001)\n",
        "roberta_model.summary()\n",
        "\n",
        "n_steps = train_x.shape[0] // BATCH_SIZE\n",
        "\n",
        "roberta_history = roberta_model.fit(\n",
        "    train_dataset,\n",
        "    steps_per_epoch=n_steps,\n",
        "    validation_data=valid_dataset,\n",
        "    epochs=15,\n",
        "    callbacks=[early_stop, reduce_lr]\n",
        ")"
      ],
      "execution_count": null,
      "outputs": [
        {
          "output_type": "display_data",
          "data": {
            "application/vnd.jupyter.widget-view+json": {
              "model_id": "6c2d5d59f1974c189b9e3959f8728364",
              "version_minor": 0,
              "version_major": 2
            },
            "text/plain": [
              "HBox(children=(FloatProgress(value=0.0, description='Downloading', max=481.0, style=ProgressStyle(description_…"
            ]
          },
          "metadata": {
            "tags": []
          }
        },
        {
          "output_type": "stream",
          "text": [
            "\n"
          ],
          "name": "stdout"
        },
        {
          "output_type": "display_data",
          "data": {
            "application/vnd.jupyter.widget-view+json": {
              "model_id": "c29b9fdece9e42db94a0640d0ed0f224",
              "version_minor": 0,
              "version_major": 2
            },
            "text/plain": [
              "HBox(children=(FloatProgress(value=0.0, description='Downloading', max=657434796.0, style=ProgressStyle(descri…"
            ]
          },
          "metadata": {
            "tags": []
          }
        },
        {
          "output_type": "stream",
          "text": [
            "\n"
          ],
          "name": "stdout"
        },
        {
          "output_type": "stream",
          "text": [
            "Some layers from the model checkpoint at roberta-base were not used when initializing TFRobertaModel: ['lm_head']\n",
            "- This IS expected if you are initializing TFRobertaModel from the checkpoint of a model trained on another task or with another architecture (e.g. initializing a BertForSequenceClassification model from a BertForPreTraining model).\n",
            "- This IS NOT expected if you are initializing TFRobertaModel from the checkpoint of a model that you expect to be exactly identical (initializing a BertForSequenceClassification model from a BertForSequenceClassification model).\n",
            "All the layers of TFRobertaModel were initialized from the model checkpoint at roberta-base.\n",
            "If your task is similar to the task the model of the checkpoint was trained on, you can already use TFRobertaModel for predictions without further training.\n"
          ],
          "name": "stderr"
        },
        {
          "output_type": "stream",
          "text": [
            "WARNING:tensorflow:The parameters `output_attentions`, `output_hidden_states` and `use_cache` cannot be updated when calling a model.They have to be set to True/False in the config object (i.e.: `config=XConfig.from_pretrained('name', output_attentions=True)`).\n",
            "WARNING:tensorflow:AutoGraph could not transform <bound method Socket.send of <zmq.sugar.socket.Socket object at 0x7f8dfdfaed70>> and will run it as-is.\n",
            "Please report this to the TensorFlow team. When filing the bug, set the verbosity to 10 (on Linux, `export AUTOGRAPH_VERBOSITY=10`) and attach the full output.\n",
            "Cause: module, class, method, function, traceback, frame, or code object was expected, got cython_function_or_method\n",
            "To silence this warning, decorate the function with @tf.autograph.experimental.do_not_convert\n"
          ],
          "name": "stdout"
        },
        {
          "output_type": "stream",
          "text": [
            "WARNING:tensorflow:AutoGraph could not transform <bound method Socket.send of <zmq.sugar.socket.Socket object at 0x7f8dfdfaed70>> and will run it as-is.\n",
            "Please report this to the TensorFlow team. When filing the bug, set the verbosity to 10 (on Linux, `export AUTOGRAPH_VERBOSITY=10`) and attach the full output.\n",
            "Cause: module, class, method, function, traceback, frame, or code object was expected, got cython_function_or_method\n",
            "To silence this warning, decorate the function with @tf.autograph.experimental.do_not_convert\n"
          ],
          "name": "stderr"
        },
        {
          "output_type": "stream",
          "text": [
            "WARNING: AutoGraph could not transform <bound method Socket.send of <zmq.sugar.socket.Socket object at 0x7f8dfdfaed70>> and will run it as-is.\n",
            "Please report this to the TensorFlow team. When filing the bug, set the verbosity to 10 (on Linux, `export AUTOGRAPH_VERBOSITY=10`) and attach the full output.\n",
            "Cause: module, class, method, function, traceback, frame, or code object was expected, got cython_function_or_method\n",
            "To silence this warning, decorate the function with @tf.autograph.experimental.do_not_convert\n"
          ],
          "name": "stdout"
        },
        {
          "output_type": "stream",
          "text": [
            "WARNING:tensorflow:The parameters `output_attentions`, `output_hidden_states` and `use_cache` cannot be updated when calling a model.They have to be set to True/False in the config object (i.e.: `config=XConfig.from_pretrained('name', output_attentions=True)`).\n"
          ],
          "name": "stderr"
        },
        {
          "output_type": "stream",
          "text": [
            "WARNING:tensorflow:AutoGraph could not transform <function wrap at 0x7f8e19859c20> and will run it as-is.\n",
            "Cause: while/else statement not yet supported\n",
            "To silence this warning, decorate the function with @tf.autograph.experimental.do_not_convert\n"
          ],
          "name": "stdout"
        },
        {
          "output_type": "stream",
          "text": [
            "WARNING:tensorflow:AutoGraph could not transform <function wrap at 0x7f8e19859c20> and will run it as-is.\n",
            "Cause: while/else statement not yet supported\n",
            "To silence this warning, decorate the function with @tf.autograph.experimental.do_not_convert\n"
          ],
          "name": "stderr"
        },
        {
          "output_type": "stream",
          "text": [
            "WARNING:tensorflow:The parameter `return_dict` cannot be set in graph mode and will always be set to `True`.\n",
            "WARNING: AutoGraph could not transform <function wrap at 0x7f8e19859c20> and will run it as-is.\n",
            "Cause: while/else statement not yet supported\n",
            "To silence this warning, decorate the function with @tf.autograph.experimental.do_not_convert\n"
          ],
          "name": "stdout"
        },
        {
          "output_type": "stream",
          "text": [
            "WARNING:tensorflow:The parameter `return_dict` cannot be set in graph mode and will always be set to `True`.\n"
          ],
          "name": "stderr"
        },
        {
          "output_type": "stream",
          "text": [
            "Model: \"model_2\"\n",
            "_________________________________________________________________\n",
            "Layer (type)                 Output Shape              Param #   \n",
            "=================================================================\n",
            "input_3 (InputLayer)         [(None, 300)]             0         \n",
            "_________________________________________________________________\n",
            "tf_roberta_model (TFRobertaM TFBaseModelOutputWithPool 124645632 \n",
            "_________________________________________________________________\n",
            "tf.__operators__.getitem (Sl (None, 768)               0         \n",
            "_________________________________________________________________\n",
            "dense_2 (Dense)              (None, 3)                 2307      \n",
            "=================================================================\n",
            "Total params: 124,647,939\n",
            "Trainable params: 124,647,939\n",
            "Non-trainable params: 0\n",
            "_________________________________________________________________\n",
            "Epoch 1/15\n",
            "WARNING:tensorflow:The parameters `output_attentions`, `output_hidden_states` and `use_cache` cannot be updated when calling a model.They have to be set to True/False in the config object (i.e.: `config=XConfig.from_pretrained('name', output_attentions=True)`).\n"
          ],
          "name": "stdout"
        },
        {
          "output_type": "stream",
          "text": [
            "WARNING:tensorflow:The parameters `output_attentions`, `output_hidden_states` and `use_cache` cannot be updated when calling a model.They have to be set to True/False in the config object (i.e.: `config=XConfig.from_pretrained('name', output_attentions=True)`).\n"
          ],
          "name": "stderr"
        },
        {
          "output_type": "stream",
          "text": [
            "WARNING:tensorflow:The parameter `return_dict` cannot be set in graph mode and will always be set to `True`.\n"
          ],
          "name": "stdout"
        },
        {
          "output_type": "stream",
          "text": [
            "WARNING:tensorflow:The parameter `return_dict` cannot be set in graph mode and will always be set to `True`.\n"
          ],
          "name": "stderr"
        },
        {
          "output_type": "stream",
          "text": [
            "WARNING:tensorflow:Gradients do not exist for variables ['tf_roberta_model/roberta/pooler/dense/kernel:0', 'tf_roberta_model/roberta/pooler/dense/bias:0'] when minimizing the loss.\n"
          ],
          "name": "stdout"
        },
        {
          "output_type": "stream",
          "text": [
            "WARNING:tensorflow:Gradients do not exist for variables ['tf_roberta_model/roberta/pooler/dense/kernel:0', 'tf_roberta_model/roberta/pooler/dense/bias:0'] when minimizing the loss.\n"
          ],
          "name": "stderr"
        },
        {
          "output_type": "stream",
          "text": [
            "WARNING:tensorflow:The parameters `output_attentions`, `output_hidden_states` and `use_cache` cannot be updated when calling a model.They have to be set to True/False in the config object (i.e.: `config=XConfig.from_pretrained('name', output_attentions=True)`).\n"
          ],
          "name": "stdout"
        },
        {
          "output_type": "stream",
          "text": [
            "WARNING:tensorflow:The parameters `output_attentions`, `output_hidden_states` and `use_cache` cannot be updated when calling a model.They have to be set to True/False in the config object (i.e.: `config=XConfig.from_pretrained('name', output_attentions=True)`).\n"
          ],
          "name": "stderr"
        },
        {
          "output_type": "stream",
          "text": [
            "WARNING:tensorflow:The parameter `return_dict` cannot be set in graph mode and will always be set to `True`.\n"
          ],
          "name": "stdout"
        },
        {
          "output_type": "stream",
          "text": [
            "WARNING:tensorflow:The parameter `return_dict` cannot be set in graph mode and will always be set to `True`.\n"
          ],
          "name": "stderr"
        },
        {
          "output_type": "stream",
          "text": [
            "WARNING:tensorflow:Gradients do not exist for variables ['tf_roberta_model/roberta/pooler/dense/kernel:0', 'tf_roberta_model/roberta/pooler/dense/bias:0'] when minimizing the loss.\n"
          ],
          "name": "stdout"
        },
        {
          "output_type": "stream",
          "text": [
            "WARNING:tensorflow:Gradients do not exist for variables ['tf_roberta_model/roberta/pooler/dense/kernel:0', 'tf_roberta_model/roberta/pooler/dense/bias:0'] when minimizing the loss.\n"
          ],
          "name": "stderr"
        },
        {
          "output_type": "stream",
          "text": [
            "234/234 [==============================] - ETA: 0s - loss: 0.8528 - accuracy: 0.5594WARNING:tensorflow:The parameters `output_attentions`, `output_hidden_states` and `use_cache` cannot be updated when calling a model.They have to be set to True/False in the config object (i.e.: `config=XConfig.from_pretrained('name', output_attentions=True)`).\n"
          ],
          "name": "stdout"
        },
        {
          "output_type": "stream",
          "text": [
            "WARNING:tensorflow:The parameters `output_attentions`, `output_hidden_states` and `use_cache` cannot be updated when calling a model.They have to be set to True/False in the config object (i.e.: `config=XConfig.from_pretrained('name', output_attentions=True)`).\n"
          ],
          "name": "stderr"
        },
        {
          "output_type": "stream",
          "text": [
            "WARNING:tensorflow:The parameter `return_dict` cannot be set in graph mode and will always be set to `True`.\n"
          ],
          "name": "stdout"
        },
        {
          "output_type": "stream",
          "text": [
            "WARNING:tensorflow:The parameter `return_dict` cannot be set in graph mode and will always be set to `True`.\n"
          ],
          "name": "stderr"
        },
        {
          "output_type": "stream",
          "text": [
            "\b\b\b\b\b\b\b\b\b\b\b\b\b\b\b\b\b\b\b\b\b\b\b\b\b\b\b\b\b\b\b\b\b\b\b\b\b\b\b\b\b\b\b\b\b\b\b\b\b\b\b\b\b\b\b\b\b\b\b\b\b\b\b\b\b\b\b\b\b\b\b\b\b\b\b\b\b\b\b\b\b\b\b\b\r234/234 [==============================] - 170s 406ms/step - loss: 0.8517 - accuracy: 0.5601 - val_loss: 0.2824 - val_accuracy: 0.8878\n",
            "Epoch 2/15\n",
            "234/234 [==============================] - 79s 336ms/step - loss: 0.2848 - accuracy: 0.8853 - val_loss: 0.2568 - val_accuracy: 0.9001\n",
            "Epoch 3/15\n",
            "234/234 [==============================] - 79s 337ms/step - loss: 0.2222 - accuracy: 0.9169 - val_loss: 0.2592 - val_accuracy: 0.9051\n",
            "Epoch 4/15\n",
            "234/234 [==============================] - 79s 337ms/step - loss: 0.2311 - accuracy: 0.9137 - val_loss: 0.2437 - val_accuracy: 0.9134\n",
            "Epoch 5/15\n",
            "234/234 [==============================] - 79s 337ms/step - loss: 0.1799 - accuracy: 0.9343 - val_loss: 0.2508 - val_accuracy: 0.9102\n",
            "Epoch 6/15\n",
            "234/234 [==============================] - 79s 337ms/step - loss: 0.1379 - accuracy: 0.9529 - val_loss: 0.3379 - val_accuracy: 0.8795\n",
            "Epoch 7/15\n",
            "234/234 [==============================] - 79s 337ms/step - loss: 0.2507 - accuracy: 0.9043 - val_loss: 0.3910 - val_accuracy: 0.8839\n",
            "Epoch 8/15\n",
            "234/234 [==============================] - 79s 337ms/step - loss: 0.1110 - accuracy: 0.9611 - val_loss: 0.3694 - val_accuracy: 0.9082\n",
            "Epoch 9/15\n",
            "234/234 [==============================] - 79s 337ms/step - loss: 0.0835 - accuracy: 0.9707 - val_loss: 0.4105 - val_accuracy: 0.9097\n"
          ],
          "name": "stdout"
        }
      ]
    },
    {
      "cell_type": "code",
      "metadata": {
        "id": "qh1xiv5OAA-7",
        "colab": {
          "base_uri": "https://localhost:8080/"
        },
        "outputId": "87497e78-2f96-4b54-b8a2-d0d2e1fa2309"
      },
      "source": [
        "roberta_test_predictions = roberta_model.predict(test_x_bert)\n",
        "print(classification_report(roberta_test_predictions.argmax(axis=1), test_y_encoded))"
      ],
      "execution_count": null,
      "outputs": [
        {
          "output_type": "stream",
          "text": [
            "WARNING:tensorflow:The parameters `output_attentions`, `output_hidden_states` and `use_cache` cannot be updated when calling a model.They have to be set to True/False in the config object (i.e.: `config=XConfig.from_pretrained('name', output_attentions=True)`).\n"
          ],
          "name": "stdout"
        },
        {
          "output_type": "stream",
          "text": [
            "WARNING:tensorflow:The parameters `output_attentions`, `output_hidden_states` and `use_cache` cannot be updated when calling a model.They have to be set to True/False in the config object (i.e.: `config=XConfig.from_pretrained('name', output_attentions=True)`).\n"
          ],
          "name": "stderr"
        },
        {
          "output_type": "stream",
          "text": [
            "WARNING:tensorflow:The parameter `return_dict` cannot be set in graph mode and will always be set to `True`.\n"
          ],
          "name": "stdout"
        },
        {
          "output_type": "stream",
          "text": [
            "WARNING:tensorflow:The parameter `return_dict` cannot be set in graph mode and will always be set to `True`.\n"
          ],
          "name": "stderr"
        },
        {
          "output_type": "stream",
          "text": [
            "              precision    recall  f1-score   support\n",
            "\n",
            "           0       0.94      0.83      0.88      5656\n",
            "           1       0.80      0.91      0.85      4406\n",
            "           2       0.98      0.99      0.99      4938\n",
            "\n",
            "    accuracy                           0.91     15000\n",
            "   macro avg       0.91      0.91      0.91     15000\n",
            "weighted avg       0.91      0.91      0.91     15000\n",
            "\n"
          ],
          "name": "stdout"
        }
      ]
    },
    {
      "cell_type": "code",
      "metadata": {
        "id": "ehE7Yyx2Tze8"
      },
      "source": [
        "roberta_valid_predictions = roberta_model.predict(valid_x_bert)"
      ],
      "execution_count": null,
      "outputs": []
    },
    {
      "cell_type": "code",
      "metadata": {
        "id": "FesiXkCPNloK"
      },
      "source": [
        "roberta_incorrect_predictions = get_incorrect_predictions(valid_x_cleaned, valid_y_encoded, roberta_valid_predictions.argmax(axis=1))\n",
        "roberta_incorrect_predictions[\"Predicted\"] = roberta_incorrect_predictions[\"Predicted\"].apply(lambda p: label_encoder.classes_[p])"
      ],
      "execution_count": null,
      "outputs": []
    },
    {
      "cell_type": "code",
      "metadata": {
        "id": "TCCKTQpNKmOG"
      },
      "source": [
        "roberta_correct_predictions = get_correct_predictions(valid_x_cleaned, valid_y_encoded, roberta_valid_predictions.argmax(axis=1))\n",
        "roberta_correct_predictions[\"Predicted\"] = roberta_correct_predictions[\"Predicted\"].apply(lambda p: label_encoder.classes_[p])"
      ],
      "execution_count": null,
      "outputs": []
    },
    {
      "cell_type": "code",
      "metadata": {
        "id": "-0jAMP1JUlCr",
        "colab": {
          "base_uri": "https://localhost:8080/",
          "height": 283
        },
        "outputId": "e555215d-7706-48e8-e5b0-a4f92b42e1fe"
      },
      "source": [
        "roberta_incorrect_predictions[\"Y\"].hist()"
      ],
      "execution_count": null,
      "outputs": [
        {
          "output_type": "execute_result",
          "data": {
            "text/plain": [
              "<matplotlib.axes._subplots.AxesSubplot at 0x7f8cf8ad2fd0>"
            ]
          },
          "metadata": {
            "tags": []
          },
          "execution_count": 67
        },
        {
          "output_type": "display_data",
          "data": {
            "image/png": "[encoded data removed]",
            "text/plain": [
              "<Figure size 432x288 with 1 Axes>"
            ]
          },
          "metadata": {
            "tags": [],
            "needs_background": "light"
          }
        }
      ]
    },
    {
      "cell_type": "code",
      "metadata": {
        "id": "Q2qYJn2Hqh5b",
        "colab": {
          "base_uri": "https://localhost:8080/",
          "height": 612
        },
        "outputId": "84dea6db-ede3-4235-b3c9-3584f0d0eef9"
      },
      "source": [
        "roberta_incorrect_predictions.head()"
      ],
      "execution_count": null,
      "outputs": [
        {
          "output_type": "execute_result",
          "data": {
            "text/html": [
              "<div>\n",
              "<style scoped>\n",
              "    .dataframe tbody tr th:only-of-type {\n",
              "        vertical-align: middle;\n",
              "    }\n",
              "\n",
              "    .dataframe tbody tr th {\n",
              "        vertical-align: top;\n",
              "    }\n",
              "\n",
              "    .dataframe thead th {\n",
              "        text-align: right;\n",
              "    }\n",
              "</style>\n",
              "<table border=\"1\" class=\"dataframe\">\n",
              "  <thead>\n",
              "    <tr style=\"text-align: right;\">\n",
              "      <th></th>\n",
              "      <th>Title</th>\n",
              "      <th>Body</th>\n",
              "      <th>Tags</th>\n",
              "      <th>Y</th>\n",
              "      <th>Predicted</th>\n",
              "    </tr>\n",
              "  </thead>\n",
              "  <tbody>\n",
              "    <tr>\n",
              "      <th>43179</th>\n",
              "      <td>how to uninstall bluej? is netbeans better?</td>\n",
              "      <td>can i have intalled on my computer both bluej and netbeans? i have bluej now, if i uninstall it , everything related with it will be unistalled to (every libraries). and generally is netbeans better option?</td>\n",
              "      <td>java netbeans bluej</td>\n",
              "      <td>LQ_CLOSE</td>\n",
              "      <td>HQ</td>\n",
              "    </tr>\n",
              "    <tr>\n",
              "      <th>7354</th>\n",
              "      <td>ie8 - media query is not rendering</td>\n",
              "      <td>i've got very curious case in ie8 where media query is not working on url (mobile view shows on desktop) but if i use ip address than it works (desktop view shows). i tried a whole lot of things even several solutions from stackoverflow but couldn't succeed. it seems like respond.js issue but i'm not sure. can anyone please help me on this. url: https://www.uhc.com/ ip: 149.111.148.170 fyi: i'm using ie 11 developer tool to check it on ie8.</td>\n",
              "      <td>javascript jquery html css responsive-design</td>\n",
              "      <td>LQ_CLOSE</td>\n",
              "      <td>HQ</td>\n",
              "    </tr>\n",
              "    <tr>\n",
              "      <th>34302</th>\n",
              "      <td>why the output is not logic ?</td>\n",
              "      <td>let vacationspots = ['usa', 'uk', 'colombia']; for (let vacationspotindex = vacationspots.length - 1; vacationspotindex &gt;= 0; vacationspotindex-- ) { console.log('i would love to visit ' + vacationspots[vacationspotindex]); } i suppose the lenght is 3 and we substract 1 so it equals to 2; so the index start is 2 and we substract 1 on every loop the probleme in the condition vacationspotindex &gt;= 0 i suppose logicly it is vacationspotindex &lt;= 0</td>\n",
              "      <td>javascript for-loop</td>\n",
              "      <td>LQ_EDIT</td>\n",
              "      <td>LQ_CLOSE</td>\n",
              "    </tr>\n",
              "    <tr>\n",
              "      <th>1561</th>\n",
              "      <td>r data-frame: get maximum of variable b condititional on variable a</td>\n",
              "      <td>i am searching for an efficient and fast way to do the following: i have a data frame with, say, 2 variables, a and b, where the values for a can occur several times: mat&amp;lt;-data.frame('vara'=rep(seq(1,10),2),'varb'=rnorm(20)) vara varb 1 0.95848233 2 -0.07477916 3 2.08189370 4 0.46523827 5 0.53500190 6 0.52605101 7 -0.69587974 8 -0.21772252 9 0.29429577 10 3.30514605 1 0.84938361 2 1.13650996 3 1.25143046 now i want to get a vector giving me for every unique value of vara unique(mat$vara) the maximum of varb conditional on vara. in the example here that would be 1 0.95848233 2 1.13650996 3 2.08189370 etc... my data-frame is very big so i want to avoid the use of loops.</td>\n",
              "      <td>r dataframe</td>\n",
              "      <td>LQ_CLOSE</td>\n",
              "      <td>HQ</td>\n",
              "    </tr>\n",
              "    <tr>\n",
              "      <th>13995</th>\n",
              "      <td>run atexit() when python process is killed</td>\n",
              "      <td>i have a python process which runs in background, and i would like it to generate some output only when the script is terminated. def handle_exit(): print('\\nall files saved in ' + directory) generate_output() atexit.register(handle_exit) calling raising a keyboardinterupt exception and sys.exit() calls handle_exit() properly, but if i were to do kill {pid} from the terminal it terminates the script without calling handle_exit(). is there a way to terminate the process that is running in the background, and still have it run handle_exit() before terminating?</td>\n",
              "      <td>python background-process atexit</td>\n",
              "      <td>HQ</td>\n",
              "      <td>LQ_CLOSE</td>\n",
              "    </tr>\n",
              "  </tbody>\n",
              "</table>\n",
              "</div>"
            ],
            "text/plain": [
              "                                                                     Title  ... Predicted\n",
              "43179                          how to uninstall bluej? is netbeans better?  ...        HQ\n",
              "7354                                    ie8 - media query is not rendering  ...        HQ\n",
              "34302                                        why the output is not logic ?  ...  LQ_CLOSE\n",
              "1561   r data-frame: get maximum of variable b condititional on variable a  ...        HQ\n",
              "13995                           run atexit() when python process is killed  ...  LQ_CLOSE\n",
              "\n",
              "[5 rows x 5 columns]"
            ]
          },
          "metadata": {
            "tags": []
          },
          "execution_count": 68
        }
      ]
    },
    {
      "cell_type": "code",
      "metadata": {
        "id": "nOlcDlmznRFg",
        "colab": {
          "base_uri": "https://localhost:8080/",
          "height": 605
        },
        "outputId": "d8d9bcb2-79ac-429e-e5ac-05d25972002e"
      },
      "source": [
        "plot_top_non_stopwords(roberta_incorrect_predictions[\"Title\"] + \" \" + roberta_incorrect_predictions[\"Body\"] + \" \" + roberta_incorrect_predictions[\"Tags\"], 20)"
      ],
      "execution_count": null,
      "outputs": [
        {
          "output_type": "execute_result",
          "data": {
            "text/plain": [
              "[('=', 2807),\n",
              " ('{', 2036),\n",
              " ('}', 1940),\n",
              " ('public', 653),\n",
              " ('new', 585),\n",
              " ('return', 527),\n",
              " ('using', 524),\n",
              " ('like', 459),\n",
              " ('string', 441),\n",
              " ('use', 436),\n",
              " ('code', 409),\n",
              " ('|', 395),\n",
              " ('want', 392),\n",
              " ('//', 386),\n",
              " ('+', 365),\n",
              " ('get', 359),\n",
              " ('class', 359),\n",
              " (\"i'm\", 349),\n",
              " ('function', 343),\n",
              " ('python', 338)]"
            ]
          },
          "metadata": {
            "tags": []
          },
          "execution_count": 69
        },
        {
          "output_type": "display_data",
          "data": {
            "image/png": "[encoded data removed]",
            "text/plain": [
              "<Figure size 432x288 with 1 Axes>"
            ]
          },
          "metadata": {
            "tags": [],
            "needs_background": "light"
          }
        }
      ]
    },
    {
      "cell_type": "code",
      "metadata": {
        "id": "9NGaqQrnK7KZ",
        "colab": {
          "base_uri": "https://localhost:8080/",
          "height": 605
        },
        "outputId": "42308a80-d20d-4159-aba3-9987a828bab1"
      },
      "source": [
        "plot_top_non_stopwords(roberta_correct_predictions[\"Title\"] + \" \" + roberta_correct_predictions[\"Body\"] + \" \" + roberta_correct_predictions[\"Tags\"], 20)"
      ],
      "execution_count": null,
      "outputs": [
        {
          "output_type": "execute_result",
          "data": {
            "text/plain": [
              "[('=', 27290),\n",
              " ('{', 18847),\n",
              " ('}', 18097),\n",
              " ('using', 5468),\n",
              " ('new', 5237),\n",
              " ('code', 4510),\n",
              " ('want', 4407),\n",
              " ('return', 4366),\n",
              " ('like', 4188),\n",
              " ('public', 4184),\n",
              " ('int', 4107),\n",
              " ('+', 4094),\n",
              " ('string', 4086),\n",
              " ('get', 3993),\n",
              " (\"i'm\", 3785),\n",
              " ('file', 3588),\n",
              " ('use', 3462),\n",
              " ('//', 3414),\n",
              " ('-', 3342),\n",
              " (':', 3326)]"
            ]
          },
          "metadata": {
            "tags": []
          },
          "execution_count": 70
        },
        {
          "output_type": "display_data",
          "data": {
            "image/png": "[encoded data removed]",
            "text/plain": [
              "<Figure size 432x288 with 1 Axes>"
            ]
          },
          "metadata": {
            "tags": [],
            "needs_background": "light"
          }
        }
      ]
    },
    {
      "cell_type": "code",
      "metadata": {
        "id": "hxas6NmeyCRl"
      },
      "source": [
        ""
      ],
      "execution_count": null,
      "outputs": []
    }
  ]
}